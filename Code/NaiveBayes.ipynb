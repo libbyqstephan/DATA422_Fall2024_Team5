{
 "cells": [
  {
   "cell_type": "markdown",
   "metadata": {
    "vscode": {
     "languageId": "plaintext"
    }
   },
   "source": [
    "\n",
    "#multi-nomial Naieve bayes\n",
    "#"
   ]
  },
  {
   "cell_type": "markdown",
   "metadata": {},
   "source": [
    "#### Setup"
   ]
  },
  {
   "cell_type": "code",
   "execution_count": 1,
   "metadata": {},
   "outputs": [
    {
     "name": "stdout",
     "output_type": "stream",
     "text": [
      "Requirement already satisfied: scikit-learn in c:\\users\\jfsal\\documents\\data422_fall2024_team5\\.venv\\lib\\site-packages (1.5.2)\n",
      "Requirement already satisfied: pandas in c:\\users\\jfsal\\documents\\data422_fall2024_team5\\.venv\\lib\\site-packages (2.2.3)\n",
      "Requirement already satisfied: numpy in c:\\users\\jfsal\\documents\\data422_fall2024_team5\\.venv\\lib\\site-packages (2.0.2)\n",
      "Requirement already satisfied: matplotlib in c:\\users\\jfsal\\documents\\data422_fall2024_team5\\.venv\\lib\\site-packages (3.9.2)\n",
      "Requirement already satisfied: scipy>=1.6.0 in c:\\users\\jfsal\\documents\\data422_fall2024_team5\\.venv\\lib\\site-packages (from scikit-learn) (1.14.1)\n",
      "Requirement already satisfied: joblib>=1.2.0 in c:\\users\\jfsal\\documents\\data422_fall2024_team5\\.venv\\lib\\site-packages (from scikit-learn) (1.4.2)\n",
      "Requirement already satisfied: threadpoolctl>=3.1.0 in c:\\users\\jfsal\\documents\\data422_fall2024_team5\\.venv\\lib\\site-packages (from scikit-learn) (3.5.0)\n",
      "Requirement already satisfied: python-dateutil>=2.8.2 in c:\\users\\jfsal\\documents\\data422_fall2024_team5\\.venv\\lib\\site-packages (from pandas) (2.9.0.post0)\n",
      "Requirement already satisfied: pytz>=2020.1 in c:\\users\\jfsal\\documents\\data422_fall2024_team5\\.venv\\lib\\site-packages (from pandas) (2024.2)\n",
      "Requirement already satisfied: tzdata>=2022.7 in c:\\users\\jfsal\\documents\\data422_fall2024_team5\\.venv\\lib\\site-packages (from pandas) (2024.2)\n",
      "Requirement already satisfied: contourpy>=1.0.1 in c:\\users\\jfsal\\documents\\data422_fall2024_team5\\.venv\\lib\\site-packages (from matplotlib) (1.3.0)\n",
      "Requirement already satisfied: cycler>=0.10 in c:\\users\\jfsal\\documents\\data422_fall2024_team5\\.venv\\lib\\site-packages (from matplotlib) (0.12.1)\n",
      "Requirement already satisfied: fonttools>=4.22.0 in c:\\users\\jfsal\\documents\\data422_fall2024_team5\\.venv\\lib\\site-packages (from matplotlib) (4.54.1)\n",
      "Requirement already satisfied: kiwisolver>=1.3.1 in c:\\users\\jfsal\\documents\\data422_fall2024_team5\\.venv\\lib\\site-packages (from matplotlib) (1.4.7)\n",
      "Requirement already satisfied: packaging>=20.0 in c:\\users\\jfsal\\documents\\data422_fall2024_team5\\.venv\\lib\\site-packages (from matplotlib) (24.1)\n",
      "Requirement already satisfied: pillow>=8 in c:\\users\\jfsal\\documents\\data422_fall2024_team5\\.venv\\lib\\site-packages (from matplotlib) (11.0.0)\n",
      "Requirement already satisfied: pyparsing>=2.3.1 in c:\\users\\jfsal\\documents\\data422_fall2024_team5\\.venv\\lib\\site-packages (from matplotlib) (3.2.0)\n",
      "Requirement already satisfied: six>=1.5 in c:\\users\\jfsal\\documents\\data422_fall2024_team5\\.venv\\lib\\site-packages (from python-dateutil>=2.8.2->pandas) (1.16.0)\n",
      "Note: you may need to restart the kernel to use updated packages.\n"
     ]
    }
   ],
   "source": [
    "%pip install scikit-learn pandas numpy matplotlib"
   ]
  },
  {
   "cell_type": "code",
   "execution_count": 2,
   "metadata": {},
   "outputs": [],
   "source": [
    "import os\n",
    "os.chdir('../')"
   ]
  },
  {
   "cell_type": "code",
   "execution_count": 5,
   "metadata": {},
   "outputs": [],
   "source": [
    "import pandas as pd\n",
    "from sklearn.model_selection import train_test_split\n",
    "from sklearn.naive_bayes import MultinomialNB, ComplementNB\n",
    "from sklearn.metrics import accuracy_score, classification_report, confusion_matrix"
   ]
  },
  {
   "cell_type": "markdown",
   "metadata": {},
   "source": [
    "#### Get data and Split into train test"
   ]
  },
  {
   "cell_type": "code",
   "execution_count": null,
   "metadata": {},
   "outputs": [],
   "source": [
    "#import and combine cluster data with preprocessed data\n",
    "cluster_data = pd.read_csv(r'Data\\Seattle_Building_Clusters.csv')\n",
    "preprocessed_data = pd.read_csv(r'Data\\Building_Data_Preprocessed.csv')\n",
    "\n",
    "preprocessed_data = preprocessed_data.assign(GHGIntensityCluster = cluster_data['GHGIntensityCluster']) #move clusters to preprocessed data\n",
    "\n",
    "preprocessed_data = preprocessed_data.drop('BuildingName', axis = 1) #drop string columns\n",
    "preprocessed_data = preprocessed_data.drop('Address', axis = 1)\n",
    "preprocessed_data = preprocessed_data.drop('Latitude', axis = 1) #Drop columns with negative values\n",
    "preprocessed_data = preprocessed_data.drop('Longitude', axis = 1)#Drop columns with negative values\n",
    "\n",
    "\n",
    "preprocessed_data = preprocessed_data.dropna()\n",
    "\n",
    "\n",
    "X = preprocessed_data.drop('GHGIntensityCluster', axis=1)\n",
    "y = preprocessed_data['GHGIntensityCluster']\n",
    "\n",
    "X_train, X_test, y_train, y_test = train_test_split(X, y, test_size=0.3, random_state=42)\n"
   ]
  },
  {
   "cell_type": "markdown",
   "metadata": {},
   "source": [
    "#### Multi-nomial Naive Bayes"
   ]
  },
  {
   "cell_type": "code",
   "execution_count": 25,
   "metadata": {},
   "outputs": [
    {
     "name": "stdout",
     "output_type": "stream",
     "text": [
      "Multinomial Naive Bayes Accuracy: 0.49\n",
      "Multinomial Classification Report:\n",
      "              precision    recall  f1-score   support\n",
      "\n",
      "           0       0.59      0.75      0.66       399\n",
      "           1       0.27      0.40      0.32        81\n",
      "           2       0.29      0.02      0.03       121\n",
      "           3       0.30      0.22      0.26       143\n",
      "\n",
      "    accuracy                           0.49       744\n",
      "   macro avg       0.36      0.35      0.32       744\n",
      "weighted avg       0.45      0.49      0.44       744\n",
      "\n",
      "Multinomial Confusion Matrix:\n",
      "[[301  42   4  52]\n",
      " [ 46  32   1   2]\n",
      " [ 71  29   2  19]\n",
      " [ 94  17   0  32]]\n"
     ]
    }
   ],
   "source": [
    "mnnb = MultinomialNB()\n",
    "\n",
    "# Train the classifier\n",
    "mnnb.fit(X_train, y_train)\n",
    "\n",
    "# Make predictions\n",
    "y_pred = mnnb.predict(X_test)\n",
    "\n",
    "# Evaluate the model\n",
    "accuracy = accuracy_score(y_test, y_pred)\n",
    "print(f'Multinomial Naive Bayes Accuracy: {accuracy:.2f}')\n",
    "\n",
    "print('Multinomial Classification Report:')\n",
    "print(classification_report(y_test, y_pred))\n",
    "\n",
    "print('Multinomial Confusion Matrix:')\n",
    "print(confusion_matrix(y_test, y_pred))\n"
   ]
  },
  {
   "cell_type": "markdown",
   "metadata": {},
   "source": [
    "#### Complement Naive Bayes Classification"
   ]
  },
  {
   "cell_type": "code",
   "execution_count": 26,
   "metadata": {},
   "outputs": [
    {
     "name": "stdout",
     "output_type": "stream",
     "text": [
      "Compliment Naive Bayes Accuracy: 0.49\n",
      "Compliment Classification Report:\n",
      "              precision    recall  f1-score   support\n",
      "\n",
      "           0       0.59      0.75      0.66       399\n",
      "           1       0.27      0.40      0.32        81\n",
      "           2       0.29      0.02      0.03       121\n",
      "           3       0.30      0.22      0.26       143\n",
      "\n",
      "    accuracy                           0.49       744\n",
      "   macro avg       0.36      0.35      0.32       744\n",
      "weighted avg       0.45      0.49      0.44       744\n",
      "\n",
      "Compliment Confusion Matrix:\n",
      "[[301  42   4  52]\n",
      " [ 46  32   1   2]\n",
      " [ 71  29   2  19]\n",
      " [ 94  17   0  32]]\n"
     ]
    }
   ],
   "source": [
    "conb = ComplementNB()\n",
    "\n",
    "# Train\n",
    "conb.fit(X_train, y_train)\n",
    "\n",
    "# Predict\n",
    "y_pred = mnnb.predict(X_test)\n",
    "\n",
    "# Evaluate\n",
    "accuracy = accuracy_score(y_test, y_pred)\n",
    "print(f'Compliment Naive Bayes Accuracy: {accuracy:.2f}')\n",
    "\n",
    "print('Compliment Classification Report:')\n",
    "print(classification_report(y_test, y_pred))\n",
    "\n",
    "print('Compliment Confusion Matrix:')\n",
    "print(confusion_matrix(y_test, y_pred))\n",
    "\n"
   ]
  }
 ],
 "metadata": {
  "kernelspec": {
   "display_name": ".venv",
   "language": "python",
   "name": "python3"
  },
  "language_info": {
   "codemirror_mode": {
    "name": "ipython",
    "version": 3
   },
   "file_extension": ".py",
   "mimetype": "text/x-python",
   "name": "python",
   "nbconvert_exporter": "python",
   "pygments_lexer": "ipython3",
   "version": "3.12.5"
  }
 },
 "nbformat": 4,
 "nbformat_minor": 2
}
