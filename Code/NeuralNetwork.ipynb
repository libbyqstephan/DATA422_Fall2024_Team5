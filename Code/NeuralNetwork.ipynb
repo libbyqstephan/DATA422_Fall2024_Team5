{
 "cells": [
  {
   "cell_type": "code",
   "execution_count": 1,
   "metadata": {},
   "outputs": [
    {
     "name": "stdout",
     "output_type": "stream",
     "text": [
      "Note: you may need to restart the kernel to use updated packages.\n"
     ]
    }
   ],
   "source": [
    "%pip install -q numpy pandas matplotlib tensorflow scikit-learn setuptools keras-tuner setuptools"
   ]
  },
  {
   "cell_type": "code",
   "execution_count": 2,
   "metadata": {},
   "outputs": [],
   "source": [
    "#run once\n",
    "import os\n",
    "os.chdir('../')"
   ]
  },
  {
   "cell_type": "code",
   "execution_count": null,
   "metadata": {},
   "outputs": [
    {
     "name": "stderr",
     "output_type": "stream",
     "text": [
      "C:\\Users\\jfsal\\AppData\\Local\\Temp\\ipykernel_10712\\925452313.py:10: DeprecationWarning: `import kerastuner` is deprecated, please use `import keras_tuner`.\n",
      "  from kerastuner import HyperModel\n"
     ]
    }
   ],
   "source": [
    "import numpy as np\n",
    "import pandas as pd\n",
    "import matplotlib.pyplot as plt\n",
    "import tensorflow as tf\n",
    "from tensorflow.keras.models import Sequential\n",
    "from tensorflow.keras.layers import Dense, Dropout\n",
    "from sklearn.model_selection import train_test_split\n",
    "from tensorflow import keras\n",
    "from tensorflow.keras import layers, regularizers\n",
    "from keras_tuner import HyperModel\n",
    "import keras_tuner\n",
    "from tensorflow.keras.metrics import RootMeanSquaredError"
   ]
  },
  {
   "cell_type": "code",
   "execution_count": 4,
   "metadata": {},
   "outputs": [],
   "source": [
    "#Data Setup\n",
    "data = pd.read_csv(r'Data\\Building_Data_Preprocessed.csv')\n",
    "\n",
    "data = data.drop('BuildingName', axis = 1)\n",
    "data = data.drop('Address', axis = 1)\n",
    "\n",
    "X = data.drop('GHGEmissionsIntensity', axis = 1)\n",
    "y = data['GHGEmissionsIntensity']\n",
    "\n",
    "X_train, X_test, y_train, y_test = train_test_split(X, y, test_size = 0.2, random_state = 42)"
   ]
  },
  {
   "cell_type": "code",
   "execution_count": 7,
   "metadata": {},
   "outputs": [],
   "source": [
    "class GHGHyperModel(HyperModel):\n",
    "    def build(self, hp):\n",
    "        model = keras.Sequential()\n",
    "        model.add(layers.Input(shape=(X_train.shape[1],)))\n",
    "        model.add(layers.BatchNormalization())\n",
    "\n",
    "        for i in range(hp.Int('num_layers', 1, 10)):\n",
    "            units = hp.Int('units_' + str(i), \n",
    "                           min_value = 64,\n",
    "                           max_value = 1028,\n",
    "                           step = 64)\n",
    "            \n",
    "            model.add(layers.Dense(units=units, activation='relu'))\n",
    "            model.add(layers.BatchNormalization())\n",
    "            model.add(layers.Dropout(hp.Float('dropout_' + str(i),\n",
    "                                              min_value=0.0,\n",
    "                                              max_value=0.5,\n",
    "                                              step=0.1)))\n",
    "        model.add(layers.Dense(1, activation='linear'))\n",
    "\n",
    "        model.compile(\n",
    "            optimizer=keras.optimizers.Adam(\n",
    "                learning_rate=hp.Float('learning_rate', \n",
    "                                       min_value=1e-7,\n",
    "                                       max_value=1e-2,\n",
    "                                       sampling='LOG')\n",
    "            ),\n",
    "            loss='mse',\n",
    "            metrics=['mean_absolute_error', RootMeanSquaredError()]\n",
    "        )\n",
    "        return model\n",
    "\n",
    "from keras_tuner import RandomSearch\n",
    "\n",
    "tuner = RandomSearch(\n",
    "    GHGHyperModel(),\n",
    "    objective='val_root_mean_squared_error',\n",
    "    max_trials=100,  # Number of different hyperparameter combinations to try\n",
    "    executions_per_trial=1,  # Number of models to train with each hyperparameter combination\n",
    "    directory='Code/GHGNNTuning',\n",
    "    project_name='GHG Emissions Prediction',\n",
    "    \n",
    ")\n",
    "\n",
    "#********************#\n",
    "MY_PATIENCE = 20\n",
    "MY_EPOCHS = 500\n",
    "MY_MIN_DELTA = 0.001\n",
    "#********************#"
   ]
  },
  {
   "cell_type": "code",
   "execution_count": null,
   "metadata": {},
   "outputs": [
    {
     "name": "stdout",
     "output_type": "stream",
     "text": [
      "Trial 16 Complete [00h 05m 02s]\n",
      "val_root_mean_squared_error: 2.720181703567505\n",
      "\n",
      "Best val_root_mean_squared_error So Far: 2.6941471099853516\n",
      "Total elapsed time: 00h 42m 17s\n",
      "\n",
      "Search: Running Trial #17\n",
      "\n",
      "Value             |Best Value So Far |Hyperparameter\n",
      "8                 |8                 |num_layers\n",
      "448               |128               |units_0\n",
      "0.1               |0.4               |dropout_0\n",
      "8.9629e-07        |0.0036684         |learning_rate\n",
      "128               |832               |units_1\n",
      "0                 |0.3               |dropout_1\n",
      "384               |832               |units_2\n",
      "0.1               |0.3               |dropout_2\n",
      "320               |128               |units_3\n",
      "0.4               |0                 |dropout_3\n",
      "768               |960               |units_4\n",
      "0.3               |0.3               |dropout_4\n",
      "128               |128               |units_5\n",
      "0.4               |0.1               |dropout_5\n",
      "320               |128               |units_6\n",
      "0.3               |0                 |dropout_6\n",
      "640               |384               |units_7\n",
      "0.1               |0.1               |dropout_7\n",
      "320               |704               |units_8\n",
      "0                 |0.1               |dropout_8\n",
      "960               |64                |units_9\n",
      "0.1               |0                 |dropout_9\n",
      "\n",
      "Epoch 1/500\n"
     ]
    }
   ],
   "source": [
    "#This code also runs for a long time, half an hour, because it trains the model.\n",
    "tuner.search(\n",
    "    X_train, y_train,\n",
    "    validation_data = (X_test, y_test),\n",
    "    epochs = MY_EPOCHS,\n",
    "    callbacks = [keras.callbacks.EarlyStopping(patience=MY_PATIENCE, min_delta=MY_MIN_DELTA, restore_best_weights=True)], #prevent overfitting\n",
    "    verbose = 1\n",
    ")\n",
    "\n",
    "best_model = tuner.get_best_models(num_models=1)[0]\n",
    "best_hyperparams = tuner.get_best_hyperparameters(num_trials=1)[0]\n",
    "\n",
    "best_model.compile(optimizer='adam', loss='mean_squared_error', metrics=['mean_squared_error', RootMeanSquaredError()])"
   ]
  },
  {
   "cell_type": "code",
   "execution_count": null,
   "metadata": {},
   "outputs": [
    {
     "name": "stdout",
     "output_type": "stream",
     "text": [
      "Epoch 1/100\n",
      "\u001b[1m92/92\u001b[0m \u001b[32m━━━━━━━━━━━━━━━━━━━━\u001b[0m\u001b[37m\u001b[0m \u001b[1m0s\u001b[0m 5ms/step - loss: 3.5833 - mean_squared_error: 3.5833 - root_mean_squared_error: 1.8894 - val_loss: 7.3582 - val_mean_squared_error: 7.3582 - val_root_mean_squared_error: 2.7126\n",
      "Epoch 2/100\n",
      "\u001b[1m92/92\u001b[0m \u001b[32m━━━━━━━━━━━━━━━━━━━━\u001b[0m\u001b[37m\u001b[0m \u001b[1m0s\u001b[0m 5ms/step - loss: 3.5100 - mean_squared_error: 3.5100 - root_mean_squared_error: 1.8678 - val_loss: 7.2964 - val_mean_squared_error: 7.2964 - val_root_mean_squared_error: 2.7012\n",
      "Epoch 3/100\n",
      "\u001b[1m92/92\u001b[0m \u001b[32m━━━━━━━━━━━━━━━━━━━━\u001b[0m\u001b[37m\u001b[0m \u001b[1m1s\u001b[0m 5ms/step - loss: 3.3106 - mean_squared_error: 3.3106 - root_mean_squared_error: 1.8113 - val_loss: 7.2867 - val_mean_squared_error: 7.2867 - val_root_mean_squared_error: 2.6994\n",
      "Epoch 4/100\n",
      "\u001b[1m92/92\u001b[0m \u001b[32m━━━━━━━━━━━━━━━━━━━━\u001b[0m\u001b[37m\u001b[0m \u001b[1m0s\u001b[0m 4ms/step - loss: 3.7031 - mean_squared_error: 3.7031 - root_mean_squared_error: 1.9206 - val_loss: 7.3325 - val_mean_squared_error: 7.3325 - val_root_mean_squared_error: 2.7079\n",
      "Epoch 5/100\n",
      "\u001b[1m92/92\u001b[0m \u001b[32m━━━━━━━━━━━━━━━━━━━━\u001b[0m\u001b[37m\u001b[0m \u001b[1m0s\u001b[0m 5ms/step - loss: 3.3203 - mean_squared_error: 3.3203 - root_mean_squared_error: 1.8183 - val_loss: 7.3107 - val_mean_squared_error: 7.3107 - val_root_mean_squared_error: 2.7038\n",
      "Epoch 6/100\n",
      "\u001b[1m92/92\u001b[0m \u001b[32m━━━━━━━━━━━━━━━━━━━━\u001b[0m\u001b[37m\u001b[0m \u001b[1m0s\u001b[0m 4ms/step - loss: 3.0503 - mean_squared_error: 3.0503 - root_mean_squared_error: 1.7442 - val_loss: 7.2904 - val_mean_squared_error: 7.2904 - val_root_mean_squared_error: 2.7001\n",
      "Epoch 7/100\n",
      "\u001b[1m92/92\u001b[0m \u001b[32m━━━━━━━━━━━━━━━━━━━━\u001b[0m\u001b[37m\u001b[0m \u001b[1m1s\u001b[0m 5ms/step - loss: 3.0350 - mean_squared_error: 3.0350 - root_mean_squared_error: 1.7285 - val_loss: 7.3429 - val_mean_squared_error: 7.3429 - val_root_mean_squared_error: 2.7098\n",
      "Epoch 8/100\n",
      "\u001b[1m92/92\u001b[0m \u001b[32m━━━━━━━━━━━━━━━━━━━━\u001b[0m\u001b[37m\u001b[0m \u001b[1m0s\u001b[0m 4ms/step - loss: 3.4780 - mean_squared_error: 3.4780 - root_mean_squared_error: 1.8627 - val_loss: 7.2941 - val_mean_squared_error: 7.2941 - val_root_mean_squared_error: 2.7008\n",
      "Epoch 9/100\n",
      "\u001b[1m92/92\u001b[0m \u001b[32m━━━━━━━━━━━━━━━━━━━━\u001b[0m\u001b[37m\u001b[0m \u001b[1m1s\u001b[0m 5ms/step - loss: 3.4824 - mean_squared_error: 3.4824 - root_mean_squared_error: 1.8640 - val_loss: 7.2921 - val_mean_squared_error: 7.2921 - val_root_mean_squared_error: 2.7004\n",
      "Epoch 10/100\n",
      "\u001b[1m92/92\u001b[0m \u001b[32m━━━━━━━━━━━━━━━━━━━━\u001b[0m\u001b[37m\u001b[0m \u001b[1m0s\u001b[0m 5ms/step - loss: 3.1124 - mean_squared_error: 3.1124 - root_mean_squared_error: 1.7590 - val_loss: 7.3296 - val_mean_squared_error: 7.3296 - val_root_mean_squared_error: 2.7073\n",
      "Epoch 11/100\n",
      "\u001b[1m92/92\u001b[0m \u001b[32m━━━━━━━━━━━━━━━━━━━━\u001b[0m\u001b[37m\u001b[0m \u001b[1m1s\u001b[0m 5ms/step - loss: 3.2147 - mean_squared_error: 3.2147 - root_mean_squared_error: 1.7908 - val_loss: 7.2826 - val_mean_squared_error: 7.2826 - val_root_mean_squared_error: 2.6986\n",
      "Epoch 12/100\n",
      "\u001b[1m92/92\u001b[0m \u001b[32m━━━━━━━━━━━━━━━━━━━━\u001b[0m\u001b[37m\u001b[0m \u001b[1m0s\u001b[0m 5ms/step - loss: 3.3893 - mean_squared_error: 3.3893 - root_mean_squared_error: 1.8394 - val_loss: 7.2978 - val_mean_squared_error: 7.2978 - val_root_mean_squared_error: 2.7015\n",
      "Epoch 13/100\n",
      "\u001b[1m92/92\u001b[0m \u001b[32m━━━━━━━━━━━━━━━━━━━━\u001b[0m\u001b[37m\u001b[0m \u001b[1m0s\u001b[0m 5ms/step - loss: 3.3481 - mean_squared_error: 3.3481 - root_mean_squared_error: 1.8273 - val_loss: 7.3117 - val_mean_squared_error: 7.3117 - val_root_mean_squared_error: 2.7040\n",
      "Epoch 14/100\n",
      "\u001b[1m92/92\u001b[0m \u001b[32m━━━━━━━━━━━━━━━━━━━━\u001b[0m\u001b[37m\u001b[0m \u001b[1m0s\u001b[0m 5ms/step - loss: 3.4278 - mean_squared_error: 3.4278 - root_mean_squared_error: 1.8448 - val_loss: 7.3131 - val_mean_squared_error: 7.3131 - val_root_mean_squared_error: 2.7043\n",
      "Epoch 15/100\n",
      "\u001b[1m92/92\u001b[0m \u001b[32m━━━━━━━━━━━━━━━━━━━━\u001b[0m\u001b[37m\u001b[0m \u001b[1m0s\u001b[0m 5ms/step - loss: 3.4550 - mean_squared_error: 3.4550 - root_mean_squared_error: 1.8529 - val_loss: 7.2934 - val_mean_squared_error: 7.2934 - val_root_mean_squared_error: 2.7006\n",
      "Epoch 16/100\n",
      "\u001b[1m92/92\u001b[0m \u001b[32m━━━━━━━━━━━━━━━━━━━━\u001b[0m\u001b[37m\u001b[0m \u001b[1m0s\u001b[0m 5ms/step - loss: 3.9186 - mean_squared_error: 3.9186 - root_mean_squared_error: 1.9661 - val_loss: 7.2642 - val_mean_squared_error: 7.2642 - val_root_mean_squared_error: 2.6952\n",
      "Epoch 17/100\n",
      "\u001b[1m92/92\u001b[0m \u001b[32m━━━━━━━━━━━━━━━━━━━━\u001b[0m\u001b[37m\u001b[0m \u001b[1m1s\u001b[0m 5ms/step - loss: 3.4444 - mean_squared_error: 3.4444 - root_mean_squared_error: 1.8476 - val_loss: 7.2600 - val_mean_squared_error: 7.2600 - val_root_mean_squared_error: 2.6944\n",
      "Epoch 18/100\n",
      "\u001b[1m92/92\u001b[0m \u001b[32m━━━━━━━━━━━━━━━━━━━━\u001b[0m\u001b[37m\u001b[0m \u001b[1m0s\u001b[0m 5ms/step - loss: 3.3348 - mean_squared_error: 3.3348 - root_mean_squared_error: 1.8225 - val_loss: 7.2828 - val_mean_squared_error: 7.2828 - val_root_mean_squared_error: 2.6987\n",
      "Epoch 19/100\n",
      "\u001b[1m92/92\u001b[0m \u001b[32m━━━━━━━━━━━━━━━━━━━━\u001b[0m\u001b[37m\u001b[0m \u001b[1m0s\u001b[0m 5ms/step - loss: 3.5382 - mean_squared_error: 3.5382 - root_mean_squared_error: 1.8784 - val_loss: 7.3339 - val_mean_squared_error: 7.3339 - val_root_mean_squared_error: 2.7081\n",
      "Epoch 20/100\n",
      "\u001b[1m92/92\u001b[0m \u001b[32m━━━━━━━━━━━━━━━━━━━━\u001b[0m\u001b[37m\u001b[0m \u001b[1m0s\u001b[0m 5ms/step - loss: 3.4628 - mean_squared_error: 3.4628 - root_mean_squared_error: 1.8578 - val_loss: 7.3033 - val_mean_squared_error: 7.3033 - val_root_mean_squared_error: 2.7025\n",
      "Epoch 21/100\n",
      "\u001b[1m92/92\u001b[0m \u001b[32m━━━━━━━━━━━━━━━━━━━━\u001b[0m\u001b[37m\u001b[0m \u001b[1m0s\u001b[0m 5ms/step - loss: 3.4622 - mean_squared_error: 3.4622 - root_mean_squared_error: 1.8568 - val_loss: 7.3312 - val_mean_squared_error: 7.3312 - val_root_mean_squared_error: 2.7076\n",
      "Epoch 22/100\n",
      "\u001b[1m92/92\u001b[0m \u001b[32m━━━━━━━━━━━━━━━━━━━━\u001b[0m\u001b[37m\u001b[0m \u001b[1m0s\u001b[0m 4ms/step - loss: 3.2393 - mean_squared_error: 3.2393 - root_mean_squared_error: 1.7920 - val_loss: 7.2788 - val_mean_squared_error: 7.2788 - val_root_mean_squared_error: 2.6979\n",
      "Epoch 23/100\n",
      "\u001b[1m92/92\u001b[0m \u001b[32m━━━━━━━━━━━━━━━━━━━━\u001b[0m\u001b[37m\u001b[0m \u001b[1m0s\u001b[0m 4ms/step - loss: 3.9147 - mean_squared_error: 3.9147 - root_mean_squared_error: 1.9745 - val_loss: 7.3500 - val_mean_squared_error: 7.3500 - val_root_mean_squared_error: 2.7111\n",
      "Epoch 24/100\n",
      "\u001b[1m92/92\u001b[0m \u001b[32m━━━━━━━━━━━━━━━━━━━━\u001b[0m\u001b[37m\u001b[0m \u001b[1m1s\u001b[0m 4ms/step - loss: 4.0935 - mean_squared_error: 4.0935 - root_mean_squared_error: 1.9890 - val_loss: 7.2655 - val_mean_squared_error: 7.2655 - val_root_mean_squared_error: 2.6955\n",
      "Epoch 25/100\n",
      "\u001b[1m92/92\u001b[0m \u001b[32m━━━━━━━━━━━━━━━━━━━━\u001b[0m\u001b[37m\u001b[0m \u001b[1m0s\u001b[0m 5ms/step - loss: 3.5681 - mean_squared_error: 3.5681 - root_mean_squared_error: 1.8805 - val_loss: 7.3046 - val_mean_squared_error: 7.3046 - val_root_mean_squared_error: 2.7027\n",
      "Epoch 26/100\n",
      "\u001b[1m92/92\u001b[0m \u001b[32m━━━━━━━━━━━━━━━━━━━━\u001b[0m\u001b[37m\u001b[0m \u001b[1m0s\u001b[0m 5ms/step - loss: 3.2526 - mean_squared_error: 3.2526 - root_mean_squared_error: 1.7874 - val_loss: 7.3044 - val_mean_squared_error: 7.3044 - val_root_mean_squared_error: 2.7027\n",
      "Epoch 27/100\n",
      "\u001b[1m92/92\u001b[0m \u001b[32m━━━━━━━━━━━━━━━━━━━━\u001b[0m\u001b[37m\u001b[0m \u001b[1m0s\u001b[0m 4ms/step - loss: 2.9903 - mean_squared_error: 2.9903 - root_mean_squared_error: 1.7228 - val_loss: 7.2812 - val_mean_squared_error: 7.2812 - val_root_mean_squared_error: 2.6984\n",
      "Epoch 28/100\n",
      "\u001b[1m92/92\u001b[0m \u001b[32m━━━━━━━━━━━━━━━━━━━━\u001b[0m\u001b[37m\u001b[0m \u001b[1m0s\u001b[0m 5ms/step - loss: 3.9390 - mean_squared_error: 3.9390 - root_mean_squared_error: 1.9757 - val_loss: 7.3420 - val_mean_squared_error: 7.3420 - val_root_mean_squared_error: 2.7096\n",
      "Epoch 29/100\n",
      "\u001b[1m92/92\u001b[0m \u001b[32m━━━━━━━━━━━━━━━━━━━━\u001b[0m\u001b[37m\u001b[0m \u001b[1m0s\u001b[0m 5ms/step - loss: 3.6731 - mean_squared_error: 3.6731 - root_mean_squared_error: 1.9135 - val_loss: 7.3324 - val_mean_squared_error: 7.3324 - val_root_mean_squared_error: 2.7078\n",
      "Epoch 30/100\n",
      "\u001b[1m92/92\u001b[0m \u001b[32m━━━━━━━━━━━━━━━━━━━━\u001b[0m\u001b[37m\u001b[0m \u001b[1m0s\u001b[0m 5ms/step - loss: 3.3453 - mean_squared_error: 3.3453 - root_mean_squared_error: 1.8216 - val_loss: 7.2937 - val_mean_squared_error: 7.2937 - val_root_mean_squared_error: 2.7007\n",
      "Epoch 31/100\n",
      "\u001b[1m92/92\u001b[0m \u001b[32m━━━━━━━━━━━━━━━━━━━━\u001b[0m\u001b[37m\u001b[0m \u001b[1m0s\u001b[0m 4ms/step - loss: 3.9359 - mean_squared_error: 3.9359 - root_mean_squared_error: 1.9780 - val_loss: 7.3291 - val_mean_squared_error: 7.3291 - val_root_mean_squared_error: 2.7072\n",
      "Epoch 32/100\n",
      "\u001b[1m92/92\u001b[0m \u001b[32m━━━━━━━━━━━━━━━━━━━━\u001b[0m\u001b[37m\u001b[0m \u001b[1m0s\u001b[0m 5ms/step - loss: 4.0740 - mean_squared_error: 4.0740 - root_mean_squared_error: 2.0105 - val_loss: 7.3098 - val_mean_squared_error: 7.3098 - val_root_mean_squared_error: 2.7037\n",
      "Epoch 33/100\n",
      "\u001b[1m92/92\u001b[0m \u001b[32m━━━━━━━━━━━━━━━━━━━━\u001b[0m\u001b[37m\u001b[0m \u001b[1m0s\u001b[0m 4ms/step - loss: 3.2601 - mean_squared_error: 3.2601 - root_mean_squared_error: 1.8021 - val_loss: 7.2643 - val_mean_squared_error: 7.2643 - val_root_mean_squared_error: 2.6952\n",
      "Epoch 34/100\n",
      "\u001b[1m92/92\u001b[0m \u001b[32m━━━━━━━━━━━━━━━━━━━━\u001b[0m\u001b[37m\u001b[0m \u001b[1m0s\u001b[0m 4ms/step - loss: 3.3905 - mean_squared_error: 3.3905 - root_mean_squared_error: 1.8337 - val_loss: 7.3532 - val_mean_squared_error: 7.3532 - val_root_mean_squared_error: 2.7117\n",
      "Epoch 35/100\n",
      "\u001b[1m92/92\u001b[0m \u001b[32m━━━━━━━━━━━━━━━━━━━━\u001b[0m\u001b[37m\u001b[0m \u001b[1m0s\u001b[0m 5ms/step - loss: 3.8046 - mean_squared_error: 3.8046 - root_mean_squared_error: 1.9404 - val_loss: 7.3304 - val_mean_squared_error: 7.3304 - val_root_mean_squared_error: 2.7075\n",
      "Epoch 36/100\n",
      "\u001b[1m92/92\u001b[0m \u001b[32m━━━━━━━━━━━━━━━━━━━━\u001b[0m\u001b[37m\u001b[0m \u001b[1m0s\u001b[0m 4ms/step - loss: 3.2760 - mean_squared_error: 3.2760 - root_mean_squared_error: 1.8063 - val_loss: 7.3054 - val_mean_squared_error: 7.3054 - val_root_mean_squared_error: 2.7029\n",
      "Epoch 37/100\n",
      "\u001b[1m92/92\u001b[0m \u001b[32m━━━━━━━━━━━━━━━━━━━━\u001b[0m\u001b[37m\u001b[0m \u001b[1m0s\u001b[0m 5ms/step - loss: 3.2942 - mean_squared_error: 3.2942 - root_mean_squared_error: 1.8104 - val_loss: 7.2997 - val_mean_squared_error: 7.2997 - val_root_mean_squared_error: 2.7018\n"
     ]
    },
    {
     "data": {
      "image/png": "[encoded data removed]",
      "text/plain": [
       "<Figure size 1000x600 with 1 Axes>"
      ]
     },
     "metadata": {},
     "output_type": "display_data"
    }
   ],
   "source": [
    "#evaluate the best model from the tuning\n",
    "loss, accuracy = best_model.evaluate(X_test, y_test)\n",
    "print(f'Neural Network Accuracy: {accuracy:.4f}')\n",
    "\n",
    "#Plot Training and Validation Loss\n",
    "history = best_model.fit(\n",
    "    X_train, y_train,\n",
    "    validation_data=(X_test, y_test),\n",
    "    epochs=MY_EPOCHS,\n",
    "    callbacks=[keras.callbacks.EarlyStopping(patience=MY_PATIENCE, min_delta=MY_MIN_DELTA, restore_best_weights=True)],\n",
    "    verbose=1\n",
    ")\n",
    "\n",
    "plt.figure(figsize=(12, 8))\n",
    "\n",
    "# Plotting Training and Validation Loss\n",
    "plt.subplot(2, 1, 1)\n",
    "plt.plot(history.history['loss'], label='Training Loss')\n",
    "plt.plot(history.history['val_loss'], label='Validation Loss')\n",
    "plt.xlabel('Epochs')\n",
    "plt.ylabel('Loss')\n",
    "plt.title('Training and Validation Loss Over Epochs')\n",
    "plt.legend()\n",
    "\n",
    "# Plotting Training and Validation MSE\n",
    "plt.subplot(2, 1, 2)\n",
    "plt.plot(history.history['mean_squared_error'], label='Training MSE')\n",
    "plt.plot(history.history['val_mean_squared_error'], label='Validation MSE')\n",
    "plt.plot(history.history['root_mean_squared_error'], label='Training RMSE')\n",
    "plt.plot(history.history['val_root_mean_squared_error'], label='Validation RMSE')\n",
    "plt.xlabel('Epochs')\n",
    "plt.ylabel('Error')\n",
    "plt.title('Training and Validation MSE and RMSE Over Epochs')\n",
    "plt.legend()\n",
    "\n",
    "plt.tight_layout()\n",
    "plt.show()"
   ]
  },
  {
   "cell_type": "code",
   "execution_count": null,
   "metadata": {},
   "outputs": [],
   "source": [
    "#get units of predicted column for context\n",
    "# Calculate the range of the column\n",
    "min_value =data['GHGEmissionsIntensity'].min()\n",
    "max_value = data['GHGEmissionsIntensity'].max()\n",
    "range_value = max_value - min_value\n",
    "\n",
    "# Print the range\n",
    "print(f\"Range of 'column_name': {range_value}\")"
   ]
  },
  {
   "cell_type": "code",
   "execution_count": null,
   "metadata": {},
   "outputs": [],
   "source": []
  },
  {
   "cell_type": "markdown",
   "metadata": {},
   "source": [
    "#### Write Up\n",
    "This neural network approach is fairly accurate for predicting total emissions output based on the features provided. The two important metrics to evaluate this model are the Loss and the Root Mean Squared Error. The Loss tells us how well the model is predicting values (predicted vs actual). In this case I chose to use Mean Squared Error which is the average squared difference between predicted and actual. The Root Mean Squared Error evaluates the performance of the regression model. It is the square root of the squared difference between the predicted and actual values. \n",
    "\n",
    "They are essentially the same thing, RMSE being MSE after square rooting however they serve different functions to the model and its training process. Loss is minimized by the optimizer of the function during training while RMSE is used afterwards to evaluate the model. RMSE Shows the average of the magnitude of the errors in the same unit as the target while MSE helps identify large errors.\n",
    "\n",
    "In this case this model performs quite well. The best performing model had an RMSE of just under 3 which means that its predictions for emission intensity are off by about 3 units"
   ]
  }
 ],
 "metadata": {
  "kernelspec": {
   "display_name": ".venv",
   "language": "python",
   "name": "python3"
  },
  "language_info": {
   "codemirror_mode": {
    "name": "ipython",
    "version": 3
   },
   "file_extension": ".py",
   "mimetype": "text/x-python",
   "name": "python",
   "nbconvert_exporter": "python",
   "pygments_lexer": "ipython3",
   "version": "3.12.5"
  }
 },
 "nbformat": 4,
 "nbformat_minor": 2
}
