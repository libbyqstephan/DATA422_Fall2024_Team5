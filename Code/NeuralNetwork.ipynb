{
 "cells": [
  {
   "cell_type": "code",
   "execution_count": 1,
   "metadata": {},
   "outputs": [
    {
     "name": "stdout",
     "output_type": "stream",
     "text": [
      "Note: you may need to restart the kernel to use updated packages.\n"
     ]
    }
   ],
   "source": [
    "%pip install -q numpy pandas matplotlib tensorflow scikit-learn setuptools keras-tuner"
   ]
  },
  {
   "cell_type": "code",
   "execution_count": 2,
   "metadata": {},
   "outputs": [],
   "source": [
    "#run once\n",
    "import os\n",
    "os.chdir('../')"
   ]
  },
  {
   "cell_type": "code",
   "execution_count": null,
   "metadata": {},
   "outputs": [],
   "source": [
    "import numpy as np\n",
    "import pandas as pd\n",
    "import matplotlib.pyplot as plt\n",
    "import tensorflow as tf\n",
    "from tensorflow.keras.models import Sequential\n",
    "from tensorflow.keras.layers import Dense, Dropout\n",
    "from sklearn.model_selection import train_test_split"
   ]
  },
  {
   "cell_type": "code",
   "execution_count": null,
   "metadata": {},
   "outputs": [
    {
     "name": "stderr",
     "output_type": "stream",
     "text": [
      "<>:2: SyntaxWarning: invalid escape sequence '\\B'\n",
      "<>:2: SyntaxWarning: invalid escape sequence '\\B'\n",
      "C:\\Users\\jfsal\\AppData\\Local\\Temp\\ipykernel_8996\\1779928584.py:2: SyntaxWarning: invalid escape sequence '\\B'\n",
      "  data = pd.read_csv('Data\\Building_Data_Preprocessed.csv')\n"
     ]
    }
   ],
   "source": [
    "#Data Setup\n",
    "data = pd.read_csv('Data\\Building_Data_Preprocessed.csv')\n",
    "\n",
    "data = data.drop('BuildingName', axis = 1)\n",
    "data = data.drop('Address', axis = 1)\n",
    "\n",
    "X = data.drop('GHGEmissionsIntensity', axis = 1)\n",
    "y = data['GHGEmissionsIntensity']\n",
    "\n",
    "X_train, X_test, y_train, y_test = train_test_split(X, y, test_size = 0.2, random_state = 42)\n",
    "\n",
    "#train_tensor = tf.convert_to_tensor(X_train, dtype = tf.float32)\n",
    "#valid_tensor = tf.convert_to_tensor(X_test, dtype = tf.float32)\n",
    "\n",
    "#train_labels = tf.convert_to_tensor(y_train, dtype = tf.float32)\n",
    "#valid_labels = tf.convert_to_tensor(y_test, dtype = tf.float32)"
   ]
  },
  {
   "cell_type": "code",
   "execution_count": null,
   "metadata": {},
   "outputs": [],
   "source": [
    "from tensorflow import keras\n",
    "from tensorflow.keras import layers, regularizers\n",
    "from kerastuner import HyperModel\n",
    "from kerastuner.tuners import Hyperband\n",
    "import kerastuner\n",
    "from tensorflow.keras.metrics import RootMeanSquaredError\n",
    "\n",
    "\n",
    "class GHGHyperModel(HyperModel):\n",
    "    def build(self, hp):\n",
    "        model = keras.Sequential()\n",
    "        model.add(layers.Input(shape=(X_train.shape[1],)))\n",
    "        model.add(layers.BatchNormalization())\n",
    "\n",
    "        for i in range(hp.Int('num_layers', 1, 5)):\n",
    "            units = hp.Int('units_' + str(i), \n",
    "                           min_value = 64,\n",
    "                           max_value = 1028,\n",
    "                           step = 64)\n",
    "            \n",
    "            model.add(layers.Dense(units=units, activation='relu'))\n",
    "            model.add(layers.BatchNormalization())\n",
    "            model.add(layers.Dropout(hp.Float('dropout_' + str(i),\n",
    "                                              min_value=0.2,\n",
    "                                              max_value=0.5,\n",
    "                                              step=0.1)))\n",
    "        model.add(layers.Dense(1, activation='linear'))\n",
    "\n",
    "        model.compile(\n",
    "            optimizer=keras.optimizers.Adam(\n",
    "                learning_rate=hp.Float('learning_rate', \n",
    "                                       min_value=1e-5,\n",
    "                                       max_value=1e-3,\n",
    "                                       sampling='LOG')\n",
    "            ),\n",
    "            loss='mse',\n",
    "            metrics=['mean_absolute_error', RootMeanSquaredError()]\n",
    "        )\n",
    "        return model\n",
    "\n",
    "from keras_tuner import RandomSearch\n",
    "\n",
    "tuner = RandomSearch(\n",
    "    GHGHyperModel(),\n",
    "    objective='val_root_mean_squared_error',\n",
    "    max_trials=100,  # Number of different hyperparameter combinations to try\n",
    "    executions_per_trial=1,  # Number of models to train with each hyperparameter combination\n",
    "    directory='Code/GHGNNTuning',\n",
    "    project_name='GHG Emissions Prediction',\n",
    "    \n",
    ")\n",
    "\n",
    "#********************#\n",
    "MY_PATIENCE = 10\n",
    "MY_EPOCHS = 100\n",
    "MY_MIN_DELTA = 0.01\n",
    "#********************#"
   ]
  },
  {
   "cell_type": "code",
   "execution_count": null,
   "metadata": {},
   "outputs": [
    {
     "name": "stdout",
     "output_type": "stream",
     "text": [
      "Trial 24 Complete [00h 00m 09s]\n",
      "val_root_mean_squared_error: 2.6961593627929688\n",
      "\n",
      "Best val_root_mean_squared_error So Far: 2.6942975521087646\n",
      "Total elapsed time: 00h 05m 37s\n",
      "\n",
      "Search: Running Trial #25\n",
      "\n",
      "Value             |Best Value So Far |Hyperparameter\n",
      "5                 |4                 |num_layers\n",
      "832               |384               |units_0\n",
      "0.2               |0.3               |dropout_0\n",
      "1.1079e-05        |0.00091609        |learning_rate\n",
      "576               |960               |units_1\n",
      "0.4               |0.4               |dropout_1\n",
      "128               |192               |units_2\n",
      "0.2               |0.2               |dropout_2\n",
      "256               |896               |units_3\n",
      "0.4               |0.3               |dropout_3\n",
      "256               |192               |units_4\n",
      "0.2               |0.2               |dropout_4\n",
      "\n",
      "Epoch 1/100\n",
      "\u001b[1m92/92\u001b[0m \u001b[32m━━━━━━━━━━━━━━━━━━━━\u001b[0m\u001b[37m\u001b[0m \u001b[1m4s\u001b[0m 8ms/step - loss: 4.2399 - mean_absolute_error: 1.0866 - root_mean_squared_error: 2.0535 - val_loss: 8.8578 - val_mean_absolute_error: 1.2647 - val_root_mean_squared_error: 2.9762\n",
      "Epoch 2/100\n",
      "\u001b[1m92/92\u001b[0m \u001b[32m━━━━━━━━━━━━━━━━━━━━\u001b[0m\u001b[37m\u001b[0m \u001b[1m1s\u001b[0m 6ms/step - loss: 5.3200 - mean_absolute_error: 1.1078 - root_mean_squared_error: 2.2955 - val_loss: 8.8063 - val_mean_absolute_error: 1.2446 - val_root_mean_squared_error: 2.9675\n",
      "Epoch 3/100\n",
      "\u001b[1m92/92\u001b[0m \u001b[32m━━━━━━━━━━━━━━━━━━━━\u001b[0m\u001b[37m\u001b[0m \u001b[1m1s\u001b[0m 5ms/step - loss: 4.1804 - mean_absolute_error: 1.0144 - root_mean_squared_error: 2.0375 - val_loss: 8.7545 - val_mean_absolute_error: 1.2249 - val_root_mean_squared_error: 2.9588\n",
      "Epoch 4/100\n",
      "\u001b[1m92/92\u001b[0m \u001b[32m━━━━━━━━━━━━━━━━━━━━\u001b[0m\u001b[37m\u001b[0m \u001b[1m1s\u001b[0m 7ms/step - loss: 4.7265 - mean_absolute_error: 1.0422 - root_mean_squared_error: 2.1696 - val_loss: 8.7010 - val_mean_absolute_error: 1.2054 - val_root_mean_squared_error: 2.9497\n",
      "Epoch 5/100\n",
      "\u001b[1m22/92\u001b[0m \u001b[32m━━━━\u001b[0m\u001b[37m━━━━━━━━━━━━━━━━\u001b[0m \u001b[1m0s\u001b[0m 5ms/step - loss: 4.2690 - mean_absolute_error: 1.0539 - root_mean_squared_error: 2.0618"
     ]
    }
   ],
   "source": [
    "tuner.search(\n",
    "    X_train, y_train,\n",
    "    validation_data = (X_test, y_test),\n",
    "    epochs = MY_EPOCHS,\n",
    "    callbacks = [keras.callbacks.EarlyStopping(patience=MY_PATIENCE, min_delta=MY_MIN_DELTA, restore_best_weights=True)], #prevent overfitting\n",
    "    verbose = 1\n",
    ")\n",
    "\n",
    "best_model = tuner.get_best_models(num_models=1)[0]\n",
    "best_hyperparams = tuner.get_best_hyperparameters(num_trials=1)[0]\n",
    "\n",
    "best_model.compile(optimizer='adam', loss='mean_squared_error', metrics=['mean_squared_error', RootMeanSquaredError()])\n",
    "best_model.evaluate(X_test, y_test)"
   ]
  }
 ],
 "metadata": {
  "kernelspec": {
   "display_name": ".venv",
   "language": "python",
   "name": "python3"
  },
  "language_info": {
   "codemirror_mode": {
    "name": "ipython",
    "version": 3
   },
   "file_extension": ".py",
   "mimetype": "text/x-python",
   "name": "python",
   "nbconvert_exporter": "python",
   "pygments_lexer": "ipython3",
   "version": "3.12.5"
  }
 },
 "nbformat": 4,
 "nbformat_minor": 2
}
