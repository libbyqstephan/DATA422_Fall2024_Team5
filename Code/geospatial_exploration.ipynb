{
 "cells": [
  {
   "cell_type": "markdown",
   "metadata": {},
   "source": [
    "# This File Contains Code That Creates Geospatial Exploration Images for Our Building Dataset"
   ]
  },
  {
   "cell_type": "code",
   "execution_count": 1,
   "metadata": {},
   "outputs": [
    {
     "name": "stdout",
     "output_type": "stream",
     "text": [
      "Note: you may need to restart the kernel to use updated packages.\n"
     ]
    }
   ],
   "source": [
    "%pip install geopandas pandas matplotlib folium IPython"
   ]
  },
  {
   "cell_type": "code",
   "execution_count": 2,
   "metadata": {},
   "outputs": [],
   "source": [
    "import geopandas as gpd\n",
    "import pandas as pd\n",
    "import matplotlib.pyplot as plt\n",
    "import folium\n",
    "from folium.plugins import HeatMap\n",
    "from IPython.display import display, IFrame\n"
   ]
  },
  {
   "cell_type": "code",
   "execution_count": 3,
   "metadata": {},
   "outputs": [
    {
     "data": {
      "text/plain": [
       "'/Volumes/T7/DATA422_Fall2024_Team5'"
      ]
     },
     "execution_count": 3,
     "metadata": {},
     "output_type": "execute_result"
    }
   ],
   "source": [
    "import os\n",
    "os.chdir('../')\n",
    "os.getcwd()"
   ]
  },
  {
   "cell_type": "code",
   "execution_count": 13,
   "metadata": {},
   "outputs": [
    {
     "name": "stdout",
     "output_type": "stream",
     "text": [
      "Index(['OSEBuildingID', 'DataYear', 'BuildingName', 'BuildingType',\n",
      "       'TaxParcelIdentificationNumber', 'Address', 'City', 'State', 'ZipCode',\n",
      "       'Latitude', 'Longitude', 'Neighborhood', 'CouncilDistrictCode',\n",
      "       'YearBuilt', 'NumberofFloors', 'NumberofBuildings', 'PropertyGFATotal',\n",
      "       'PropertyGFABuilding(s)', 'PropertyGFAParking', 'ENERGYSTARScore',\n",
      "       'SiteEUIWN(kBtu/sf)', 'SiteEUI(kBtu/sf)', 'SiteEnergyUse(kBtu)',\n",
      "       'SiteEnergyUseWN(kBtu)', 'SourceEUIWN(kBtu/sf)', 'SourceEUI(kBtu/sf)',\n",
      "       'EPAPropertyType', 'LargestPropertyUseType',\n",
      "       'LargestPropertyUseTypeGFA', 'SecondLargestPropertyUseType',\n",
      "       'SecondLargestPropertyUseTypeGFA', 'ThirdLargestPropertyUseType',\n",
      "       'ThirdLargestPropertyUseTypeGFA', 'Electricity(kWh)', 'SteamUse(kBtu)',\n",
      "       'NaturalGas(therms)', 'ComplianceStatus', 'ComplianceIssue',\n",
      "       'Electricity(kBtu)', 'NaturalGas(kBtu)', 'TotalGHGEmissions',\n",
      "       'GHGEmissionsIntensity'],\n",
      "      dtype='object')\n"
     ]
    }
   ],
   "source": [
    "data = pd.read_csv('Data/Seattle Building Energy Benchmarking/2022_Building_Energy_Benchmarking_20240906.csv')\n",
    "print(data.columns)"
   ]
  },
  {
   "cell_type": "code",
   "execution_count": 14,
   "metadata": {},
   "outputs": [],
   "source": [
    "#Heatmap of Total Emissions\n",
    "\n",
    "#lazy clean untill preprocessing is finished\n",
    "data_cleaned = data.dropna(subset=['Latitude', 'Longitude', 'GHGEmissionsIntensity'])\n",
    "\n",
    "#Create the map\n",
    "m = folium.Map(location=[data_cleaned['Latitude'].mean(), data_cleaned['Longitude'].mean()], zoom_start=5)\n",
    "\n",
    "#Prepare heatmap data\n",
    "heat_data = [[row['Latitude'], row['Longitude'], row['GHGEmissionsIntensity']] for index, row in data_cleaned.iterrows()]\n",
    "\n",
    "#Add heatmap layer to the map\n",
    "HeatMap(heat_data).add_to(m)\n",
    "\n",
    "#Save the map to an HTML file\n",
    "m.save('Code/geospatial/building_heatmapTotalGHGEmissionIntensity.html')"
   ]
  },
  {
   "cell_type": "code",
   "execution_count": null,
   "metadata": {},
   "outputs": [],
   "source": []
  }
 ],
 "metadata": {
  "kernelspec": {
   "display_name": ".venv",
   "language": "python",
   "name": "python3"
  },
  "language_info": {
   "codemirror_mode": {
    "name": "ipython",
    "version": 3
   },
   "file_extension": ".py",
   "mimetype": "text/x-python",
   "name": "python",
   "nbconvert_exporter": "python",
   "pygments_lexer": "ipython3",
   "version": "3.12.6"
  }
 },
 "nbformat": 4,
 "nbformat_minor": 2
}
