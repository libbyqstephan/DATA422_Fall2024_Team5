{
 "cells": [
  {
   "cell_type": "markdown",
   "metadata": {},
   "source": [
    "# Seattle Building Data Pre-processing\n",
    "## Team 5 - Connor, John, Libby, & Natalie\n",
    "\n",
    "This file contains the code used to preprocess and clean our selected dataset. The final step will be outputting a cleaned and processed dataset as a new .csv file."
   ]
  },
  {
   "cell_type": "markdown",
   "metadata": {},
   "source": [
    "#### Setup"
   ]
  },
  {
   "cell_type": "code",
   "execution_count": 16,
   "metadata": {},
   "outputs": [
    {
     "data": {
      "text/plain": [
       "'/Users/mainuser/Desktop/DATA422_Fall2024_Team5'"
      ]
     },
     "execution_count": 16,
     "metadata": {},
     "output_type": "execute_result"
    }
   ],
   "source": [
    "#Makes paths work if you just clone or pull the repo\n",
    "import os\n",
    "os.chdir('../')\n",
    "os.getcwd()"
   ]
  },
  {
   "cell_type": "code",
   "execution_count": 5,
   "metadata": {},
   "outputs": [
    {
     "name": "stdout",
     "output_type": "stream",
     "text": [
      "Note: you may need to restart the kernel to use updated packages.\n"
     ]
    }
   ],
   "source": [
    "#Install Required Libraries (Only needs to run once)\n",
    "%pip install -q pandas numpy "
   ]
  },
  {
   "cell_type": "code",
   "execution_count": 7,
   "metadata": {},
   "outputs": [],
   "source": [
    "#import libraries\n",
    "import pandas as pd"
   ]
  },
  {
   "cell_type": "markdown",
   "metadata": {},
   "source": [
    "#### Import Data"
   ]
  },
  {
   "cell_type": "code",
   "execution_count": 29,
   "metadata": {},
   "outputs": [],
   "source": [
    "#Paths\n",
    "PATH_TO_DATASET = \"Data/Seattle Building Energy Benchmarking/2022_Building_Energy_Benchmarking_20240906.csv\""
   ]
  },
  {
   "cell_type": "code",
   "execution_count": 30,
   "metadata": {},
   "outputs": [
    {
     "data": {
      "text/html": [
       "<div>\n",
       "<style scoped>\n",
       "    .dataframe tbody tr th:only-of-type {\n",
       "        vertical-align: middle;\n",
       "    }\n",
       "\n",
       "    .dataframe tbody tr th {\n",
       "        vertical-align: top;\n",
       "    }\n",
       "\n",
       "    .dataframe thead th {\n",
       "        text-align: right;\n",
       "    }\n",
       "</style>\n",
       "<table border=\"1\" class=\"dataframe\">\n",
       "  <thead>\n",
       "    <tr style=\"text-align: right;\">\n",
       "      <th></th>\n",
       "      <th>OSEBuildingID</th>\n",
       "      <th>DataYear</th>\n",
       "      <th>BuildingName</th>\n",
       "      <th>BuildingType</th>\n",
       "      <th>TaxParcelIdentificationNumber</th>\n",
       "      <th>Address</th>\n",
       "      <th>City</th>\n",
       "      <th>State</th>\n",
       "      <th>ZipCode</th>\n",
       "      <th>Latitude</th>\n",
       "      <th>...</th>\n",
       "      <th>ThirdLargestPropertyUseTypeGFA</th>\n",
       "      <th>Electricity(kWh)</th>\n",
       "      <th>SteamUse(kBtu)</th>\n",
       "      <th>NaturalGas(therms)</th>\n",
       "      <th>ComplianceStatus</th>\n",
       "      <th>ComplianceIssue</th>\n",
       "      <th>Electricity(kBtu)</th>\n",
       "      <th>NaturalGas(kBtu)</th>\n",
       "      <th>TotalGHGEmissions</th>\n",
       "      <th>GHGEmissionsIntensity</th>\n",
       "    </tr>\n",
       "  </thead>\n",
       "  <tbody>\n",
       "    <tr>\n",
       "      <th>0</th>\n",
       "      <td>1</td>\n",
       "      <td>2022</td>\n",
       "      <td>MAYFLOWER PARK HOTEL</td>\n",
       "      <td>NonResidential</td>\n",
       "      <td>0659000030</td>\n",
       "      <td>405 OLIVE WAY</td>\n",
       "      <td>SEATTLE</td>\n",
       "      <td>WA</td>\n",
       "      <td>98101</td>\n",
       "      <td>47.61220</td>\n",
       "      <td>...</td>\n",
       "      <td>NaN</td>\n",
       "      <td>1107295.0</td>\n",
       "      <td>2192383.0</td>\n",
       "      <td>13629.0</td>\n",
       "      <td>Compliant</td>\n",
       "      <td>No Issue</td>\n",
       "      <td>3778091.0</td>\n",
       "      <td>1362900.0</td>\n",
       "      <td>264.5</td>\n",
       "      <td>2.99</td>\n",
       "    </tr>\n",
       "    <tr>\n",
       "      <th>1</th>\n",
       "      <td>2</td>\n",
       "      <td>2022</td>\n",
       "      <td>PARAMOUNT HOTEL</td>\n",
       "      <td>NonResidential</td>\n",
       "      <td>0659000220</td>\n",
       "      <td>724 PINE ST</td>\n",
       "      <td>SEATTLE</td>\n",
       "      <td>WA</td>\n",
       "      <td>98101</td>\n",
       "      <td>47.61307</td>\n",
       "      <td>...</td>\n",
       "      <td>NaN</td>\n",
       "      <td>698673.0</td>\n",
       "      <td>NaN</td>\n",
       "      <td>27516.0</td>\n",
       "      <td>Compliant</td>\n",
       "      <td>No Issue</td>\n",
       "      <td>2383872.0</td>\n",
       "      <td>2751630.0</td>\n",
       "      <td>155.3</td>\n",
       "      <td>1.75</td>\n",
       "    </tr>\n",
       "    <tr>\n",
       "      <th>2</th>\n",
       "      <td>3</td>\n",
       "      <td>2022</td>\n",
       "      <td>WESTIN HOTEL (Parent Building)</td>\n",
       "      <td>NonResidential</td>\n",
       "      <td>0659000475</td>\n",
       "      <td>1900 5TH AVE</td>\n",
       "      <td>SEATTLE</td>\n",
       "      <td>WA</td>\n",
       "      <td>98101</td>\n",
       "      <td>47.61367</td>\n",
       "      <td>...</td>\n",
       "      <td>0.0</td>\n",
       "      <td>10599740.0</td>\n",
       "      <td>18793416.0</td>\n",
       "      <td>57000.0</td>\n",
       "      <td>Compliant</td>\n",
       "      <td>No Issue</td>\n",
       "      <td>36166313.0</td>\n",
       "      <td>5700000.0</td>\n",
       "      <td>1963.7</td>\n",
       "      <td>2.59</td>\n",
       "    </tr>\n",
       "    <tr>\n",
       "      <th>3</th>\n",
       "      <td>5</td>\n",
       "      <td>2022</td>\n",
       "      <td>HOTEL MAX</td>\n",
       "      <td>NonResidential</td>\n",
       "      <td>0659000640</td>\n",
       "      <td>620 STEWART ST</td>\n",
       "      <td>SEATTLE</td>\n",
       "      <td>WA</td>\n",
       "      <td>98101</td>\n",
       "      <td>47.61412</td>\n",
       "      <td>...</td>\n",
       "      <td>NaN</td>\n",
       "      <td>783804.0</td>\n",
       "      <td>1549427.0</td>\n",
       "      <td>15762.0</td>\n",
       "      <td>Compliant</td>\n",
       "      <td>No Issue</td>\n",
       "      <td>2674341.0</td>\n",
       "      <td>1576250.0</td>\n",
       "      <td>219.5</td>\n",
       "      <td>3.58</td>\n",
       "    </tr>\n",
       "    <tr>\n",
       "      <th>4</th>\n",
       "      <td>8</td>\n",
       "      <td>2022</td>\n",
       "      <td>WARWICK SEATTLE HOTEL</td>\n",
       "      <td>NonResidential</td>\n",
       "      <td>0659000970</td>\n",
       "      <td>401 LENORA ST</td>\n",
       "      <td>SEATTLE</td>\n",
       "      <td>WA</td>\n",
       "      <td>98121</td>\n",
       "      <td>47.61375</td>\n",
       "      <td>...</td>\n",
       "      <td>0.0</td>\n",
       "      <td>1374200.0</td>\n",
       "      <td>NaN</td>\n",
       "      <td>73621.0</td>\n",
       "      <td>Compliant</td>\n",
       "      <td>No Issue</td>\n",
       "      <td>4688770.0</td>\n",
       "      <td>7362130.0</td>\n",
       "      <td>409.0</td>\n",
       "      <td>3.60</td>\n",
       "    </tr>\n",
       "  </tbody>\n",
       "</table>\n",
       "<p>5 rows × 42 columns</p>\n",
       "</div>"
      ],
      "text/plain": [
       "   OSEBuildingID  DataYear                    BuildingName    BuildingType  \\\n",
       "0              1      2022            MAYFLOWER PARK HOTEL  NonResidential   \n",
       "1              2      2022                 PARAMOUNT HOTEL  NonResidential   \n",
       "2              3      2022  WESTIN HOTEL (Parent Building)  NonResidential   \n",
       "3              5      2022                       HOTEL MAX  NonResidential   \n",
       "4              8      2022           WARWICK SEATTLE HOTEL  NonResidential   \n",
       "\n",
       "  TaxParcelIdentificationNumber         Address     City State  ZipCode  \\\n",
       "0                    0659000030   405 OLIVE WAY  SEATTLE    WA    98101   \n",
       "1                    0659000220     724 PINE ST  SEATTLE    WA    98101   \n",
       "2                    0659000475    1900 5TH AVE  SEATTLE    WA    98101   \n",
       "3                    0659000640  620 STEWART ST  SEATTLE    WA    98101   \n",
       "4                    0659000970   401 LENORA ST  SEATTLE    WA    98121   \n",
       "\n",
       "   Latitude  ...  ThirdLargestPropertyUseTypeGFA Electricity(kWh)  \\\n",
       "0  47.61220  ...                             NaN        1107295.0   \n",
       "1  47.61307  ...                             NaN         698673.0   \n",
       "2  47.61367  ...                             0.0       10599740.0   \n",
       "3  47.61412  ...                             NaN         783804.0   \n",
       "4  47.61375  ...                             0.0        1374200.0   \n",
       "\n",
       "   SteamUse(kBtu)  NaturalGas(therms)  ComplianceStatus  ComplianceIssue  \\\n",
       "0       2192383.0             13629.0         Compliant         No Issue   \n",
       "1             NaN             27516.0         Compliant         No Issue   \n",
       "2      18793416.0             57000.0         Compliant         No Issue   \n",
       "3       1549427.0             15762.0         Compliant         No Issue   \n",
       "4             NaN             73621.0         Compliant         No Issue   \n",
       "\n",
       "   Electricity(kBtu)  NaturalGas(kBtu)  TotalGHGEmissions  \\\n",
       "0          3778091.0         1362900.0              264.5   \n",
       "1          2383872.0         2751630.0              155.3   \n",
       "2         36166313.0         5700000.0             1963.7   \n",
       "3          2674341.0         1576250.0              219.5   \n",
       "4          4688770.0         7362130.0              409.0   \n",
       "\n",
       "   GHGEmissionsIntensity  \n",
       "0                   2.99  \n",
       "1                   1.75  \n",
       "2                   2.59  \n",
       "3                   3.58  \n",
       "4                   3.60  \n",
       "\n",
       "[5 rows x 42 columns]"
      ]
     },
     "execution_count": 30,
     "metadata": {},
     "output_type": "execute_result"
    }
   ],
   "source": [
    "#Import Dataset\n",
    "building_DF = pd.read_csv(PATH_TO_DATASET)\n",
    "\n",
    "building_DF.head()"
   ]
  },
  {
   "cell_type": "markdown",
   "metadata": {},
   "source": [
    "#### Data Cleaning"
   ]
  },
  {
   "cell_type": "code",
   "execution_count": 33,
   "metadata": {},
   "outputs": [
    {
     "name": "stdout",
     "output_type": "stream",
     "text": [
      "                                 Null Count Data Type\n",
      "SteamUse(kBtu)                         3517   float64\n",
      "ThirdLargestPropertyUseType            2918    object\n",
      "ThirdLargestPropertyUseTypeGFA         2897   float64\n",
      "SecondLargestPropertyUseType           1709    object\n",
      "SecondLargestPropertyUseTypeGFA        1697   float64\n",
      "NaturalGas(therms)                     1669   float64\n",
      "NaturalGas(kBtu)                       1669   float64\n",
      "ENERGYSTARScore                        1174   float64\n",
      "SiteEUIWN(kBtu/sf)                      519   float64\n",
      "SourceEUIWN(kBtu/sf)                    519   float64\n",
      "SiteEnergyUseWN(kBtu)                   518   float64\n",
      "SourceEUI(kBtu/sf)                      458   float64\n",
      "SiteEUI(kBtu/sf)                        458   float64\n",
      "SiteEnergyUse(kBtu)                     457   float64\n",
      "EPAPropertyType                         234    object\n",
      "GHGEmissionsIntensity                   209   float64\n",
      "Electricity(kWh)                        208   float64\n",
      "Electricity(kBtu)                       208   float64\n",
      "TotalGHGEmissions                       206   float64\n",
      "LargestPropertyUseType                  177    object\n",
      "LargestPropertyUseTypeGFA               173   float64\n",
      "Neighborhood                              1    object\n",
      "CouncilDistrictCode                       1   float64\n"
     ]
    }
   ],
   "source": [
    "# Column wise Null counts\n",
    "column_nulls = building_DF.isnull().sum()\n",
    "sorted_column_nulls = column_nulls[column_nulls > 0].sort_values(ascending=False)\n",
    "column_dtypes = building_DF.dtypes\n",
    "nulls_and_dtypes = pd.DataFrame({\n",
    "    'Null Count': sorted_column_nulls,\n",
    "    'Data Type': column_dtypes[sorted_column_nulls.index]\n",
    "})\n",
    "\n",
    "print(nulls_and_dtypes)"
   ]
  },
  {
   "cell_type": "markdown",
   "metadata": {},
   "source": [
    "Column  by Column examination of values based on Data Wrangler view.\n",
    "\n",
    "SteamUse - 96% missing - There are 19 '0.0' entries so its possible that Null values are improperly entered zeros. Another possibility is that these buildings don't have steam which is why they are null and the 0.0 entries are buildings with steam that didn't use any.\n",
    "Options: Drop column, or fill Nulls with 0.\n",
    "\n",
    "ThirdLargestPropertyUseType - 80% missing - This is a string column, null values likely mean there is no third largest property.\n",
    "Options: Drop column since its a string, do nothing, or change Nulls to 'No Third Property'\n",
    "\n",
    "ThirdLargestPropertyUseTypeGFA - 79% missing - Has zero values, im assuming the missing values are from buildings that have to third largest property use type.\n",
    "Options: Drop column, replace nulls with 0.0, replace nulls with -1, replace with mean/median\n",
    "\n",
    "SecondLargestPropertyUseType - 47% - Same as Third\n",
    "\n",
    "SecondLargestPropertyUseTypeGFA - 48% - Same as ThirdGFA\n",
    "\n",
    "NaturalGas(therms) - 46% - Has zero values, nulls are likely from buildings that don't use natural gas.\n",
    "Options: Replace Nulls with 0.0, Replace Nulls with -1.0, replace with mean/median\n",
    "\n",
    "NaturalGas(kBtu) - 46% - Same as above\n",
    "\n",
    "ENERGYSTARScore - 32% - Nulls could be buildings that don't have Energy Star Scores calculated yet\n",
    "Options: Replace with 0.0, replace with -1, replace with mean/median\n",
    "\n"
   ]
  },
  {
   "cell_type": "code",
   "execution_count": null,
   "metadata": {},
   "outputs": [],
   "source": [
    "def handle_null_values(building_Dataframe):\n",
    "    '''This function takes the building dataframe and returns a new dataframe with the null values handled'''\n",
    "    "
   ]
  },
  {
   "cell_type": "markdown",
   "metadata": {},
   "source": [
    "#### Export Processed Dataset"
   ]
  },
  {
   "cell_type": "code",
   "execution_count": null,
   "metadata": {},
   "outputs": [],
   "source": [
    "print(building_DF)\n",
    "building_DF.to_csv('Data/PP_Building_Energy_Benchmarking.csv', index=False)"
   ]
  }
 ],
 "metadata": {
  "kernelspec": {
   "display_name": ".venv",
   "language": "python",
   "name": "python3"
  },
  "language_info": {
   "codemirror_mode": {
    "name": "ipython",
    "version": 3
   },
   "file_extension": ".py",
   "mimetype": "text/x-python",
   "name": "python",
   "nbconvert_exporter": "python",
   "pygments_lexer": "ipython3",
   "version": "3.11.9"
  }
 },
 "nbformat": 4,
 "nbformat_minor": 2
}
