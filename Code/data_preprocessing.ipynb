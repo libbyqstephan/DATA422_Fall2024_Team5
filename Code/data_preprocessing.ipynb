{
 "cells": [
  {
   "cell_type": "markdown",
   "metadata": {},
   "source": [
    "# Seattle Building Data Pre-processing\n",
    "## Team 5 - Connor, John, Libby, & Natalie\n",
    "\n",
    "This file contains the code used to preprocess and clean our selected dataset. The final step will be outputting a cleaned and processed dataset as a new .csv file."
   ]
  },
  {
   "cell_type": "markdown",
   "metadata": {},
   "source": [
    "#### Setup"
   ]
  },
  {
   "cell_type": "code",
   "execution_count": 1,
   "metadata": {},
   "outputs": [
    {
     "data": {
      "text/plain": [
       "'c:\\\\Users\\\\jfsal\\\\Documents\\\\DATA422'"
      ]
     },
     "execution_count": 1,
     "metadata": {},
     "output_type": "execute_result"
    }
   ],
   "source": [
    "#Makes paths work if you just clone or pull the repo\n",
    "import os\n",
    "os.chdir('../')\n",
    "os.getcwd()"
   ]
  },
  {
   "cell_type": "code",
   "execution_count": 2,
   "metadata": {},
   "outputs": [
    {
     "name": "stdout",
     "output_type": "stream",
     "text": [
      "Note: you may need to restart the kernel to use updated packages.\n"
     ]
    }
   ],
   "source": [
    "#Install Required Libraries (Only needs to run once)\n",
    "%pip install -q pandas numpy "
   ]
  },
  {
   "cell_type": "code",
   "execution_count": 6,
   "metadata": {},
   "outputs": [],
   "source": [
    "#import libraries\n",
    "import pandas as pd"
   ]
  },
  {
   "cell_type": "markdown",
   "metadata": {},
   "source": [
    "#### Import Data"
   ]
  },
  {
   "cell_type": "code",
   "execution_count": 7,
   "metadata": {},
   "outputs": [],
   "source": [
    "#Paths\n",
    "PATH_TO_DATASET = \"Data/Seattle Building Energy Benchmarking/2022_Building_Energy_Benchmarking_20240906.csv\""
   ]
  },
  {
   "cell_type": "code",
   "execution_count": 8,
   "metadata": {},
   "outputs": [
    {
     "name": "stdout",
     "output_type": "stream",
     "text": [
      "Index(['OSEBuildingID', 'DataYear', 'BuildingName', 'BuildingType',\n",
      "       'TaxParcelIdentificationNumber', 'Address', 'City', 'State', 'ZipCode',\n",
      "       'Latitude', 'Longitude', 'Neighborhood', 'CouncilDistrictCode',\n",
      "       'YearBuilt', 'NumberofFloors', 'NumberofBuildings', 'PropertyGFATotal',\n",
      "       'PropertyGFABuilding(s)', 'PropertyGFAParking', 'ENERGYSTARScore',\n",
      "       'SiteEUIWN(kBtu/sf)', 'SiteEUI(kBtu/sf)', 'SiteEnergyUse(kBtu)',\n",
      "       'SiteEnergyUseWN(kBtu)', 'SourceEUIWN(kBtu/sf)', 'SourceEUI(kBtu/sf)',\n",
      "       'EPAPropertyType', 'LargestPropertyUseType',\n",
      "       'LargestPropertyUseTypeGFA', 'SecondLargestPropertyUseType',\n",
      "       'SecondLargestPropertyUseTypeGFA', 'ThirdLargestPropertyUseType',\n",
      "       'ThirdLargestPropertyUseTypeGFA', 'Electricity(kWh)', 'SteamUse(kBtu)',\n",
      "       'NaturalGas(therms)', 'ComplianceStatus', 'ComplianceIssue',\n",
      "       'Electricity(kBtu)', 'NaturalGas(kBtu)', 'TotalGHGEmissions',\n",
      "       'GHGEmissionsIntensity'],\n",
      "      dtype='object')\n"
     ]
    }
   ],
   "source": [
    "#Import Dataset\n",
    "building_DF = pd.read_csv(PATH_TO_DATASET) #raw data\n",
    "\n",
    "print(building_DF.columns)"
   ]
  },
  {
   "cell_type": "markdown",
   "metadata": {},
   "source": [
    "#### Data Cleaning"
   ]
  },
  {
   "cell_type": "code",
   "execution_count": 9,
   "metadata": {},
   "outputs": [
    {
     "name": "stdout",
     "output_type": "stream",
     "text": [
      "547 Dropped Rows\n"
     ]
    }
   ],
   "source": [
    "#Non-compliant Buildings\n",
    "compliant_buildings = building_DF[building_DF['ComplianceStatus'] == 'Compliant']\n",
    "print(building_DF.shape[0] - compliant_buildings.shape[0], 'Dropped Rows')\n",
    "\n",
    "#uncomment to save change (im lazy will delete later)\n",
    "#building_DF = compliant_buildings"
   ]
  },
  {
   "cell_type": "code",
   "execution_count": 10,
   "metadata": {},
   "outputs": [],
   "source": [
    "#Drop Columns That We Decided Not To Use\n",
    "Dropped_Columns = ['TaxParcelIdentificationNumber', 'City', 'State', 'CouncilDistrictCode', 'PropertyGFABuilding(s)', \n",
    "                   'PropertyGFAParking', 'SiteEUIWN(kBtu/sf)', 'SiteEnergyUse(kBtu)', 'SiteEnergyUseWN(kBtu)', \n",
    "                   'SourceEUIWN(kBtu/sf)', 'LargestPropertyUseType', 'LargestPropertyUseTypeGFA', \n",
    "                   'SecondLargestPropertyUseType', 'SecondLargestPropertyUseTypeGFA', 'ThirdLargestPropertyUseType',\n",
    "                   'ThirdLargestPropertyUseTypeGFA', 'Electricity(kWh)', 'NaturalGas(therms)', 'TotalGHGEmissions']\n",
    "#Drop Listed Columns\n",
    "df_after_drop = building_DF.drop(columns=Dropped_Columns)"
   ]
  },
  {
   "cell_type": "code",
   "execution_count": 11,
   "metadata": {},
   "outputs": [
    {
     "name": "stdout",
     "output_type": "stream",
     "text": [
      "                       Null Count Data Type\n",
      "SteamUse(kBtu)               3517   float64\n",
      "NaturalGas(kBtu)             1669   float64\n",
      "ENERGYSTARScore              1174   float64\n",
      "SourceEUI(kBtu/sf)            458   float64\n",
      "SiteEUI(kBtu/sf)              458   float64\n",
      "EPAPropertyType               234    object\n",
      "GHGEmissionsIntensity         209   float64\n",
      "Electricity(kBtu)             208   float64\n",
      "Neighborhood                    1    object\n"
     ]
    }
   ],
   "source": [
    "# Column wise Null counts\n",
    "column_nulls = df_after_drop.isnull().sum()\n",
    "sorted_column_nulls = column_nulls[column_nulls > 0].sort_values(ascending=False)\n",
    "column_dtypes = df_after_drop.dtypes\n",
    "nulls_and_dtypes = pd.DataFrame({\n",
    "    'Null Count': sorted_column_nulls,\n",
    "    'Data Type': column_dtypes[sorted_column_nulls.index]\n",
    "})\n",
    "\n",
    "print(nulls_and_dtypes)"
   ]
  },
  {
   "cell_type": "code",
   "execution_count": 12,
   "metadata": {},
   "outputs": [
    {
     "ename": "KeyError",
     "evalue": "'SourceEUI'",
     "output_type": "error",
     "traceback": [
      "\u001b[1;31m---------------------------------------------------------------------------\u001b[0m",
      "\u001b[1;31mKeyError\u001b[0m                                  Traceback (most recent call last)",
      "File \u001b[1;32mc:\\Users\\jfsal\\Documents\\DATA422\\.venv\\Lib\\site-packages\\pandas\\core\\indexes\\base.py:3805\u001b[0m, in \u001b[0;36mIndex.get_loc\u001b[1;34m(self, key)\u001b[0m\n\u001b[0;32m   3804\u001b[0m \u001b[38;5;28;01mtry\u001b[39;00m:\n\u001b[1;32m-> 3805\u001b[0m     \u001b[38;5;28;01mreturn\u001b[39;00m \u001b[38;5;28;43mself\u001b[39;49m\u001b[38;5;241;43m.\u001b[39;49m\u001b[43m_engine\u001b[49m\u001b[38;5;241;43m.\u001b[39;49m\u001b[43mget_loc\u001b[49m\u001b[43m(\u001b[49m\u001b[43mcasted_key\u001b[49m\u001b[43m)\u001b[49m\n\u001b[0;32m   3806\u001b[0m \u001b[38;5;28;01mexcept\u001b[39;00m \u001b[38;5;167;01mKeyError\u001b[39;00m \u001b[38;5;28;01mas\u001b[39;00m err:\n",
      "File \u001b[1;32mindex.pyx:167\u001b[0m, in \u001b[0;36mpandas._libs.index.IndexEngine.get_loc\u001b[1;34m()\u001b[0m\n",
      "File \u001b[1;32mindex.pyx:196\u001b[0m, in \u001b[0;36mpandas._libs.index.IndexEngine.get_loc\u001b[1;34m()\u001b[0m\n",
      "File \u001b[1;32mpandas\\\\_libs\\\\hashtable_class_helper.pxi:7081\u001b[0m, in \u001b[0;36mpandas._libs.hashtable.PyObjectHashTable.get_item\u001b[1;34m()\u001b[0m\n",
      "File \u001b[1;32mpandas\\\\_libs\\\\hashtable_class_helper.pxi:7089\u001b[0m, in \u001b[0;36mpandas._libs.hashtable.PyObjectHashTable.get_item\u001b[1;34m()\u001b[0m\n",
      "\u001b[1;31mKeyError\u001b[0m: 'SourceEUI'",
      "\nThe above exception was the direct cause of the following exception:\n",
      "\u001b[1;31mKeyError\u001b[0m                                  Traceback (most recent call last)",
      "Cell \u001b[1;32mIn[12], line 15\u001b[0m\n\u001b[0;32m     11\u001b[0m     b_df \u001b[38;5;241m=\u001b[39m b_df\u001b[38;5;241m.\u001b[39mdropna(subset\u001b[38;5;241m=\u001b[39m[\u001b[38;5;124m'\u001b[39m\u001b[38;5;124mNeighborhood\u001b[39m\u001b[38;5;124m'\u001b[39m]) \u001b[38;5;66;03m#drop the single row with a null, goodbye :(\u001b[39;00m\n\u001b[0;32m     13\u001b[0m     \u001b[38;5;28;01mreturn\u001b[39;00m b_df\n\u001b[1;32m---> 15\u001b[0m df_nulls_cleaned \u001b[38;5;241m=\u001b[39m \u001b[43mhandle_null_values\u001b[49m\u001b[43m(\u001b[49m\u001b[43mdf_after_drop\u001b[49m\u001b[43m)\u001b[49m\n\u001b[0;32m     17\u001b[0m df_nulls_cleaned\u001b[38;5;241m.\u001b[39mto_csv(\u001b[38;5;124m'\u001b[39m\u001b[38;5;124mData/Building_Data_Cleaned.csv\u001b[39m\u001b[38;5;124m'\u001b[39m, index\u001b[38;5;241m=\u001b[39m\u001b[38;5;28;01mFalse\u001b[39;00m)\n",
      "Cell \u001b[1;32mIn[12], line 6\u001b[0m, in \u001b[0;36mhandle_null_values\u001b[1;34m(b_df)\u001b[0m\n\u001b[0;32m      4\u001b[0m b_df[\u001b[38;5;124m'\u001b[39m\u001b[38;5;124mNaturalGas(kBtu)\u001b[39m\u001b[38;5;124m'\u001b[39m] \u001b[38;5;241m=\u001b[39m b_df[\u001b[38;5;124m'\u001b[39m\u001b[38;5;124mNaturalGas(kBtu)\u001b[39m\u001b[38;5;124m'\u001b[39m]\u001b[38;5;241m.\u001b[39mfillna(\u001b[38;5;241m0.0\u001b[39m) \u001b[38;5;66;03m#Buildings that don't have natural gas use zero natural gas\u001b[39;00m\n\u001b[0;32m      5\u001b[0m b_df[\u001b[38;5;124m'\u001b[39m\u001b[38;5;124mENERGYSTARScore\u001b[39m\u001b[38;5;124m'\u001b[39m] \u001b[38;5;241m=\u001b[39m b_df[\u001b[38;5;124m'\u001b[39m\u001b[38;5;124mENERGYSTARScore\u001b[39m\u001b[38;5;124m'\u001b[39m] \u001b[38;5;66;03m#not sure what to do with this yet\u001b[39;00m\n\u001b[1;32m----> 6\u001b[0m b_df[\u001b[38;5;124m'\u001b[39m\u001b[38;5;124mSourceEUI\u001b[39m\u001b[38;5;124m'\u001b[39m] \u001b[38;5;241m=\u001b[39m \u001b[43mb_df\u001b[49m\u001b[43m[\u001b[49m\u001b[38;5;124;43m'\u001b[39;49m\u001b[38;5;124;43mSourceEUI\u001b[39;49m\u001b[38;5;124;43m'\u001b[39;49m\u001b[43m]\u001b[49m\u001b[38;5;241m.\u001b[39mfillna(b_df[\u001b[38;5;124m'\u001b[39m\u001b[38;5;124mSourceEUI\u001b[39m\u001b[38;5;124m'\u001b[39m]\u001b[38;5;241m.\u001b[39mmean()) \u001b[38;5;66;03m#Fill with mean\u001b[39;00m\n\u001b[0;32m      7\u001b[0m b_df[\u001b[38;5;124m'\u001b[39m\u001b[38;5;124mSiteEUI\u001b[39m\u001b[38;5;124m'\u001b[39m] \u001b[38;5;241m=\u001b[39m b_df[\u001b[38;5;124m'\u001b[39m\u001b[38;5;124mSiteEUI\u001b[39m\u001b[38;5;124m'\u001b[39m]\u001b[38;5;241m.\u001b[39mfillna(b_df[\u001b[38;5;124m'\u001b[39m\u001b[38;5;124mSiteEUI\u001b[39m\u001b[38;5;124m'\u001b[39m]\u001b[38;5;241m.\u001b[39mmean()) \u001b[38;5;66;03m#Fill with mean\u001b[39;00m\n\u001b[0;32m      8\u001b[0m b_df[\u001b[38;5;124m'\u001b[39m\u001b[38;5;124mEPAPropertyType\u001b[39m\u001b[38;5;124m'\u001b[39m] \u001b[38;5;241m=\u001b[39m b_df[\u001b[38;5;124m'\u001b[39m\u001b[38;5;124mEPAPropertyType\u001b[39m\u001b[38;5;124m'\u001b[39m]\u001b[38;5;241m.\u001b[39mfillna(\u001b[38;5;124m'\u001b[39m\u001b[38;5;124mOther\u001b[39m\u001b[38;5;124m'\u001b[39m) \u001b[38;5;66;03m#Fill with 'Other'\u001b[39;00m\n",
      "File \u001b[1;32mc:\\Users\\jfsal\\Documents\\DATA422\\.venv\\Lib\\site-packages\\pandas\\core\\frame.py:4102\u001b[0m, in \u001b[0;36mDataFrame.__getitem__\u001b[1;34m(self, key)\u001b[0m\n\u001b[0;32m   4100\u001b[0m \u001b[38;5;28;01mif\u001b[39;00m \u001b[38;5;28mself\u001b[39m\u001b[38;5;241m.\u001b[39mcolumns\u001b[38;5;241m.\u001b[39mnlevels \u001b[38;5;241m>\u001b[39m \u001b[38;5;241m1\u001b[39m:\n\u001b[0;32m   4101\u001b[0m     \u001b[38;5;28;01mreturn\u001b[39;00m \u001b[38;5;28mself\u001b[39m\u001b[38;5;241m.\u001b[39m_getitem_multilevel(key)\n\u001b[1;32m-> 4102\u001b[0m indexer \u001b[38;5;241m=\u001b[39m \u001b[38;5;28;43mself\u001b[39;49m\u001b[38;5;241;43m.\u001b[39;49m\u001b[43mcolumns\u001b[49m\u001b[38;5;241;43m.\u001b[39;49m\u001b[43mget_loc\u001b[49m\u001b[43m(\u001b[49m\u001b[43mkey\u001b[49m\u001b[43m)\u001b[49m\n\u001b[0;32m   4103\u001b[0m \u001b[38;5;28;01mif\u001b[39;00m is_integer(indexer):\n\u001b[0;32m   4104\u001b[0m     indexer \u001b[38;5;241m=\u001b[39m [indexer]\n",
      "File \u001b[1;32mc:\\Users\\jfsal\\Documents\\DATA422\\.venv\\Lib\\site-packages\\pandas\\core\\indexes\\base.py:3812\u001b[0m, in \u001b[0;36mIndex.get_loc\u001b[1;34m(self, key)\u001b[0m\n\u001b[0;32m   3807\u001b[0m     \u001b[38;5;28;01mif\u001b[39;00m \u001b[38;5;28misinstance\u001b[39m(casted_key, \u001b[38;5;28mslice\u001b[39m) \u001b[38;5;129;01mor\u001b[39;00m (\n\u001b[0;32m   3808\u001b[0m         \u001b[38;5;28misinstance\u001b[39m(casted_key, abc\u001b[38;5;241m.\u001b[39mIterable)\n\u001b[0;32m   3809\u001b[0m         \u001b[38;5;129;01mand\u001b[39;00m \u001b[38;5;28many\u001b[39m(\u001b[38;5;28misinstance\u001b[39m(x, \u001b[38;5;28mslice\u001b[39m) \u001b[38;5;28;01mfor\u001b[39;00m x \u001b[38;5;129;01min\u001b[39;00m casted_key)\n\u001b[0;32m   3810\u001b[0m     ):\n\u001b[0;32m   3811\u001b[0m         \u001b[38;5;28;01mraise\u001b[39;00m InvalidIndexError(key)\n\u001b[1;32m-> 3812\u001b[0m     \u001b[38;5;28;01mraise\u001b[39;00m \u001b[38;5;167;01mKeyError\u001b[39;00m(key) \u001b[38;5;28;01mfrom\u001b[39;00m \u001b[38;5;21;01merr\u001b[39;00m\n\u001b[0;32m   3813\u001b[0m \u001b[38;5;28;01mexcept\u001b[39;00m \u001b[38;5;167;01mTypeError\u001b[39;00m:\n\u001b[0;32m   3814\u001b[0m     \u001b[38;5;66;03m# If we have a listlike key, _check_indexing_error will raise\u001b[39;00m\n\u001b[0;32m   3815\u001b[0m     \u001b[38;5;66;03m#  InvalidIndexError. Otherwise we fall through and re-raise\u001b[39;00m\n\u001b[0;32m   3816\u001b[0m     \u001b[38;5;66;03m#  the TypeError.\u001b[39;00m\n\u001b[0;32m   3817\u001b[0m     \u001b[38;5;28mself\u001b[39m\u001b[38;5;241m.\u001b[39m_check_indexing_error(key)\n",
      "\u001b[1;31mKeyError\u001b[0m: 'SourceEUI'"
     ]
    }
   ],
   "source": [
    "def handle_null_values(b_df):\n",
    "    '''This function takes the building dataframe and returns a new dataframe with the null values handled'''\n",
    "    b_df['SteamUse(kBtu)'] = b_df['SteamUse(kBtu)'].fillna(0.0) #Buildings that don't have steam have zero steam use\n",
    "    b_df['NaturalGas(kBtu)'] = b_df['NaturalGas(kBtu)'].fillna(0.0) #Buildings that don't have natural gas use zero natural gas\n",
    "    b_df['ENERGYSTARScore'] = b_df['ENERGYSTARScore'] #not sure what to do with this yet\n",
    "    b_df['SourceEUI'] = b_df['SourceEUI'].fillna(b_df['SourceEUI'].mean()) #Fill with mean\n",
    "    b_df['SiteEUI'] = b_df['SiteEUI'].fillna(b_df['SiteEUI'].mean()) #Fill with mean\n",
    "    b_df['EPAPropertyType'] = b_df['EPAPropertyType'].fillna('Other') #Fill with 'Other'\n",
    "    b_df = b_df['GHGEmissionsIntensity'].fillna(b_df['EmissionsIntensity'].mean()) #drop Rows with Nulls\n",
    "    b_df['Electricity(kBtu)'] = b_df['Electricity(kBtu)'].fillna(b_df['Electricity(kBtu)'].mean()) #leaving as zero electricity use for now but needs to be fixed\n",
    "    b_df = b_df.dropna(subset=['Neighborhood']) #drop the single row with a null, goodbye :(\n",
    "        \n",
    "    return b_df\n",
    "\n",
    "df_nulls_cleaned = handle_null_values(df_after_drop)\n",
    "\n",
    "df_nulls_cleaned.to_csv('Data/Building_Data_Cleaned.csv', index=False)"
   ]
  },
  {
   "cell_type": "markdown",
   "metadata": {},
   "source": [
    "#### Processing Steps"
   ]
  },
  {
   "cell_type": "code",
   "execution_count": null,
   "metadata": {},
   "outputs": [],
   "source": [
    "clean_data = pd.read_csv('Data/Building_Data_Cleaned.csv')\n",
    "#encoding\n",
    "from sklearn.preprocessing import StandardScaler, OneHotEncoder\n",
    "\n",
    "cat_cols = []\n",
    "num_cols = []\n"
   ]
  },
  {
   "cell_type": "markdown",
   "metadata": {},
   "source": [
    "#### Export Processed Dataset"
   ]
  },
  {
   "cell_type": "code",
   "execution_count": null,
   "metadata": {},
   "outputs": [],
   "source": [
    "print(building_DF)\n",
    "building_DF.to_csv('Data/Building_Data_PP.csv', index=False)"
   ]
  }
 ],
 "metadata": {
  "kernelspec": {
   "display_name": ".venv",
   "language": "python",
   "name": "python3"
  },
  "language_info": {
   "codemirror_mode": {
    "name": "ipython",
    "version": 3
   },
   "file_extension": ".py",
   "mimetype": "text/x-python",
   "name": "python",
   "nbconvert_exporter": "python",
   "pygments_lexer": "ipython3",
   "version": "3.12.5"
  }
 },
 "nbformat": 4,
 "nbformat_minor": 2
}
