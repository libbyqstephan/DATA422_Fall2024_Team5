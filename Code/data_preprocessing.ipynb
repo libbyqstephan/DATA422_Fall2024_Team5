{
 "cells": [
  {
   "cell_type": "markdown",
   "metadata": {},
   "source": [
    "# Seattle Building Data Pre-processing\n",
    "## Team 5 - Connor, John, Libby, & Natalie\n",
    "\n",
    "This file contains the code used to preprocess and clean our selected dataset. The final step will be outputting a cleaned and processed dataset as a new .csv file."
   ]
  },
  {
   "cell_type": "markdown",
   "metadata": {},
   "source": [
    "#### Setup"
   ]
  },
  {
   "cell_type": "code",
   "execution_count": 1,
   "metadata": {},
   "outputs": [],
   "source": [
    "#Makes paths work if you just clone or pull the repo\n",
    "import os\n",
    "os.chdir('../')\n"
   ]
  },
  {
   "cell_type": "code",
   "execution_count": 2,
   "metadata": {},
   "outputs": [
    {
     "name": "stdout",
     "output_type": "stream",
     "text": [
      "Note: you may need to restart the kernel to use updated packages.\n"
     ]
    }
   ],
   "source": [
    "#Install Required Libraries (Only needs to run once)\n",
    "%pip install -q pandas numpy scikit-learn"
   ]
  },
  {
   "cell_type": "code",
   "execution_count": 3,
   "metadata": {},
   "outputs": [],
   "source": [
    "#import libraries\n",
    "import pandas as pd"
   ]
  },
  {
   "cell_type": "markdown",
   "metadata": {},
   "source": [
    "#### Import Data"
   ]
  },
  {
   "cell_type": "code",
   "execution_count": 4,
   "metadata": {},
   "outputs": [],
   "source": [
    "#Paths\n",
    "PATH_TO_DATASET = \"Data/Raw Data/2022_Building_Energy_Benchmarking_20240906.csv\""
   ]
  },
  {
   "cell_type": "code",
   "execution_count": 5,
   "metadata": {},
   "outputs": [
    {
     "name": "stdout",
     "output_type": "stream",
     "text": [
      "Index(['OSEBuildingID', 'DataYear', 'BuildingName', 'BuildingType',\n",
      "       'TaxParcelIdentificationNumber', 'Address', 'City', 'State', 'ZipCode',\n",
      "       'Latitude', 'Longitude', 'Neighborhood', 'CouncilDistrictCode',\n",
      "       'YearBuilt', 'NumberofFloors', 'NumberofBuildings', 'PropertyGFATotal',\n",
      "       'PropertyGFABuilding(s)', 'PropertyGFAParking', 'ENERGYSTARScore',\n",
      "       'SiteEUIWN(kBtu/sf)', 'SiteEUI(kBtu/sf)', 'SiteEnergyUse(kBtu)',\n",
      "       'SiteEnergyUseWN(kBtu)', 'SourceEUIWN(kBtu/sf)', 'SourceEUI(kBtu/sf)',\n",
      "       'EPAPropertyType', 'LargestPropertyUseType',\n",
      "       'LargestPropertyUseTypeGFA', 'SecondLargestPropertyUseType',\n",
      "       'SecondLargestPropertyUseTypeGFA', 'ThirdLargestPropertyUseType',\n",
      "       'ThirdLargestPropertyUseTypeGFA', 'Electricity(kWh)', 'SteamUse(kBtu)',\n",
      "       'NaturalGas(therms)', 'ComplianceStatus', 'ComplianceIssue',\n",
      "       'Electricity(kBtu)', 'NaturalGas(kBtu)', 'TotalGHGEmissions',\n",
      "       'GHGEmissionsIntensity'],\n",
      "      dtype='object')\n"
     ]
    }
   ],
   "source": [
    "#Import Dataset\n",
    "building_DF = pd.read_csv(PATH_TO_DATASET) #raw data\n",
    "\n",
    "print(building_DF.columns)"
   ]
  },
  {
   "cell_type": "markdown",
   "metadata": {},
   "source": [
    "#### Data Cleaning"
   ]
  },
  {
   "cell_type": "code",
   "execution_count": 6,
   "metadata": {},
   "outputs": [],
   "source": [
    "#Drop Columns That We Decided Not To Use\n",
    "Dropped_Columns = ['TaxParcelIdentificationNumber', 'City', 'State', 'CouncilDistrictCode', 'PropertyGFABuilding(s)', \n",
    "                   'PropertyGFAParking', 'SiteEUIWN(kBtu/sf)', 'SiteEnergyUse(kBtu)', 'SiteEnergyUseWN(kBtu)', \n",
    "                   'SourceEUIWN(kBtu/sf)', 'LargestPropertyUseType', 'LargestPropertyUseTypeGFA', \n",
    "                   'SecondLargestPropertyUseType', 'SecondLargestPropertyUseTypeGFA', 'ThirdLargestPropertyUseType',\n",
    "                   'ThirdLargestPropertyUseTypeGFA', 'Electricity(kWh)', 'NaturalGas(therms)', 'TotalGHGEmissions']\n",
    "#Drop Listed Columns\n",
    "df_after_drop = building_DF.drop(columns=Dropped_Columns)"
   ]
  },
  {
   "cell_type": "code",
   "execution_count": 7,
   "metadata": {},
   "outputs": [
    {
     "name": "stdout",
     "output_type": "stream",
     "text": [
      "                       Null Count Data Type\n",
      "SteamUse(kBtu)               3517   float64\n",
      "NaturalGas(kBtu)             1669   float64\n",
      "ENERGYSTARScore              1174   float64\n",
      "SourceEUI(kBtu/sf)            458   float64\n",
      "SiteEUI(kBtu/sf)              458   float64\n",
      "EPAPropertyType               234    object\n",
      "GHGEmissionsIntensity         209   float64\n",
      "Electricity(kBtu)             208   float64\n",
      "Neighborhood                    1    object\n"
     ]
    }
   ],
   "source": [
    "# Column wise Null counts\n",
    "column_nulls = df_after_drop.isnull().sum()\n",
    "sorted_column_nulls = column_nulls[column_nulls > 0].sort_values(ascending=False)\n",
    "column_dtypes = df_after_drop.dtypes\n",
    "nulls_and_dtypes = pd.DataFrame({\n",
    "    'Null Count': sorted_column_nulls,\n",
    "    'Data Type': column_dtypes[sorted_column_nulls.index]\n",
    "})\n",
    "\n",
    "print(nulls_and_dtypes)"
   ]
  },
  {
   "cell_type": "code",
   "execution_count": 8,
   "metadata": {},
   "outputs": [],
   "source": [
    "def handle_null_values(df):\n",
    "    '''This function takes the building dataframe and returns a new dataframe with the null values handled'''\n",
    "    df['SteamUse(kBtu)'] = df['SteamUse(kBtu)'].fillna(0.0) #Buildings that don't have steam have zero steam use\n",
    "    df['NaturalGas(kBtu)'] = df['NaturalGas(kBtu)'].fillna(0.0) #Buildings that don't have natural gas use zero natural gas\n",
    "    df['ENERGYSTARScore'] = df['ENERGYSTARScore'] #not sure what to do with this yet\n",
    "    df['SourceEUI(kBtu/sf)'] = df['SourceEUI(kBtu/sf)'].fillna(df['SourceEUI(kBtu/sf)'].mean()) #Fill with mean\n",
    "    df['SiteEUI(kBtu/sf)'] = df['SiteEUI(kBtu/sf)'].fillna(df['SiteEUI(kBtu/sf)'].mean()) #Fill with mean\n",
    "    df['EPAPropertyType'] = df['EPAPropertyType'].fillna('Other') #Fill with 'Other'\n",
    "    df['GHGEmissionsIntensity'] = df['GHGEmissionsIntensity'].fillna(df['GHGEmissionsIntensity'].mean()) #drop Rows with Nulls\n",
    "    df['Electricity(kBtu)'] = df['Electricity(kBtu)'].fillna(df['Electricity(kBtu)'].mean()) #leaving as zero electricity use for now but needs to be fixed\n",
    "    df.dropna(subset=['Neighborhood']) #drop the single row with a null, goodbye :(\n",
    "        \n",
    "    return df\n",
    "\n",
    "df_nulls_cleaned = handle_null_values(df_after_drop)\n",
    "\n",
    "df_nulls_cleaned.to_csv('Data/Seattle_Building_Data_Cleaned.csv', index=False)"
   ]
  },
  {
   "cell_type": "markdown",
   "metadata": {},
   "source": [
    "#### Processing Steps"
   ]
  },
  {
   "cell_type": "markdown",
   "metadata": {},
   "source": [
    "TODO: Change epa property types from 'other - random stuff' to just 'other'\n",
    "onehot encode categorical columns\n",
    "normalize numerical columns"
   ]
  },
  {
   "cell_type": "code",
   "execution_count": 9,
   "metadata": {},
   "outputs": [
    {
     "name": "stderr",
     "output_type": "stream",
     "text": [
      "<>:1: SyntaxWarning: invalid escape sequence '\\S'\n",
      "<>:1: SyntaxWarning: invalid escape sequence '\\S'\n",
      "C:\\Users\\jfsal\\AppData\\Local\\Temp\\ipykernel_8316\\1551968840.py:1: SyntaxWarning: invalid escape sequence '\\S'\n",
      "  cleandf = pd.read_csv('Data\\Seattle_Building_Data_Cleaned.csv')\n"
     ]
    }
   ],
   "source": [
    "cleandf = pd.read_csv('Data\\Seattle_Building_Data_Cleaned.csv')"
   ]
  },
  {
   "cell_type": "code",
   "execution_count": 10,
   "metadata": {},
   "outputs": [
    {
     "name": "stdout",
     "output_type": "stream",
     "text": [
      "EPAPropertyType\n",
      "Multifamily LR (1-4)                     1004\n",
      "Multifamily MR (5-9)                      736\n",
      "Office                                    468\n",
      "Other                                     434\n",
      "K-12 School                               148\n",
      "Non-Refrigerated Warehouse                138\n",
      "Mixed Use Property                        124\n",
      "Multifamily HR (10+)                      124\n",
      "Hotel                                      74\n",
      "Retail Store                               67\n",
      "Worship Facility                           55\n",
      "Medical Office                             45\n",
      "Self-Storage Facility                      37\n",
      "Distribution Center                        37\n",
      "Supermarket/Grocery Store                  35\n",
      "College/University                         26\n",
      "Laboratory                                 20\n",
      "Parking                                    20\n",
      "Manufacturing/Industrial Plant             16\n",
      "Refrigerated Warehouse                     13\n",
      "Hospital (General Medical & Surgical)      11\n",
      "Residence Hall/Dormitory                   11\n",
      "Multifamily Housing                        10\n",
      "Name: count, dtype: int64\n"
     ]
    }
   ],
   "source": [
    "#EPA Property Type Cleaning \n",
    "for index, row in cleandf.iterrows():\n",
    "    if 'other' in row['EPAPropertyType'].lower():\n",
    "        cleandf.at[index, 'EPAPropertyType'] = 'Other'\n",
    "        \n",
    "COMBINE_LOW_COUNTS = True #Change to false if we dont want to do this step\n",
    "if COMBINE_LOW_COUNTS:\n",
    "     value_counts = cleandf['EPAPropertyType'].value_counts()\n",
    "     cleandf['EPAPropertyType'] = cleandf['EPAPropertyType'].apply(lambda x: 'Other' if value_counts[x] < 10 else x)\n",
    "     \n",
    "print(cleandf['EPAPropertyType'].value_counts())"
   ]
  },
  {
   "cell_type": "code",
   "execution_count": 11,
   "metadata": {},
   "outputs": [
    {
     "name": "stdout",
     "output_type": "stream",
     "text": [
      "Index(['OSEBuildingID', 'DataYear', 'BuildingName', 'BuildingType', 'Address',\n",
      "       'ZipCode', 'Latitude', 'Longitude', 'Neighborhood', 'YearBuilt',\n",
      "       'NumberofFloors', 'NumberofBuildings', 'PropertyGFATotal',\n",
      "       'ENERGYSTARScore', 'SiteEUI(kBtu/sf)', 'SourceEUI(kBtu/sf)',\n",
      "       'EPAPropertyType', 'SteamUse(kBtu)', 'ComplianceStatus',\n",
      "       'ComplianceIssue', 'Electricity(kBtu)', 'NaturalGas(kBtu)',\n",
      "       'GHGEmissionsIntensity'],\n",
      "      dtype='object')\n"
     ]
    }
   ],
   "source": [
    "print(cleandf.columns)"
   ]
  },
  {
   "cell_type": "code",
   "execution_count": 17,
   "metadata": {},
   "outputs": [
    {
     "name": "stdout",
     "output_type": "stream",
     "text": [
      "   OSEBuildingID  DataYear                    BuildingName         Address  \\\n",
      "0              1      2022            MAYFLOWER PARK HOTEL   405 OLIVE WAY   \n",
      "1              2      2022                 PARAMOUNT HOTEL     724 PINE ST   \n",
      "2              3      2022  WESTIN HOTEL (Parent Building)    1900 5TH AVE   \n",
      "3              5      2022                       HOTEL MAX  620 STEWART ST   \n",
      "4              8      2022           WARWICK SEATTLE HOTEL   401 LENORA ST   \n",
      "\n",
      "   ZipCode  Latitude  Longitude  YearBuilt  NumberofFloors  NumberofBuildings  \\\n",
      "0    98101  47.61220 -122.33799       1927              12                  1   \n",
      "1    98101  47.61307 -122.33361       1996              11                  1   \n",
      "2    98101  47.61367 -122.33822       1969              41                  3   \n",
      "3    98101  47.61412 -122.33664       1926              10                  1   \n",
      "4    98121  47.61375 -122.34047       1980              18                  1   \n",
      "\n",
      "   ...  \\\n",
      "0  ...   \n",
      "1  ...   \n",
      "2  ...   \n",
      "3  ...   \n",
      "4  ...   \n",
      "\n",
      "   ComplianceIssue_Portfolio Manager Not Connected to the City of Seattle  \\\n",
      "0                                                0.0                        \n",
      "1                                                0.0                        \n",
      "2                                                0.0                        \n",
      "3                                                0.0                        \n",
      "4                                                0.0                        \n",
      "\n",
      "   ComplianceIssue_Unknown - Contact the Help Desk  BuildingType_Campus  \\\n",
      "0                                              0.0                  0.0   \n",
      "1                                              0.0                  0.0   \n",
      "2                                              0.0                  0.0   \n",
      "3                                              0.0                  0.0   \n",
      "4                                              0.0                  0.0   \n",
      "\n",
      "   BuildingType_Multifamily HR (10+)  BuildingType_Multifamily LR (1-4)  \\\n",
      "0                                0.0                                0.0   \n",
      "1                                0.0                                0.0   \n",
      "2                                0.0                                0.0   \n",
      "3                                0.0                                0.0   \n",
      "4                                0.0                                0.0   \n",
      "\n",
      "   BuildingType_Multifamily MR (5-9)  BuildingType_NonResidential  \\\n",
      "0                                0.0                          1.0   \n",
      "1                                0.0                          1.0   \n",
      "2                                0.0                          1.0   \n",
      "3                                0.0                          1.0   \n",
      "4                                0.0                          1.0   \n",
      "\n",
      "   BuildingType_Nonresidential COS  BuildingType_Nonresidential WA  \\\n",
      "0                              0.0                             0.0   \n",
      "1                              0.0                             0.0   \n",
      "2                              0.0                             0.0   \n",
      "3                              0.0                             0.0   \n",
      "4                              0.0                             0.0   \n",
      "\n",
      "   BuildingType_SPS-District K-12  \n",
      "0                             0.0  \n",
      "1                             0.0  \n",
      "2                             0.0  \n",
      "3                             0.0  \n",
      "4                             0.0  \n",
      "\n",
      "[5 rows x 77 columns]\n"
     ]
    }
   ],
   "source": [
    "#encoding\n",
    "from sklearn.preprocessing import StandardScaler, OneHotEncoder\n",
    "\n",
    "cat_cols = ['Neighborhood', 'EPAPropertyType', 'ComplianceStatus', 'ComplianceIssue', 'BuildingType']\n",
    "num_cols = ['SiteEUI(kBtu/sf)', 'SourceEUI(kBtu/sf)', 'SteamUse(kBtu)', 'NaturalGas(kBtu)', 'Electricity(kBtu)']\n",
    "\n",
    "#One Hot Encoding\n",
    "encoder = OneHotEncoder(sparse_output=False)\n",
    "encoded_cols = encoder.fit_transform(cleandf[cat_cols])\n",
    "encoded_df = pd.DataFrame(encoded_cols, columns=encoder.get_feature_names_out(cat_cols))\n",
    "\n",
    "# Standard Scaling\n",
    "scaler = StandardScaler()\n",
    "scaled_cols = scaler.fit_transform(cleandf[num_cols])\n",
    "scaled_df = pd.DataFrame(scaled_cols, columns=num_cols)\n",
    "\n",
    "# Remove original Columns\n",
    "processed_df = pd.concat([cleandf.reset_index(drop=True), encoded_df, scaled_df], axis=1)\n",
    "processed_df = processed_df.drop(columns=cat_cols + num_cols)\n",
    "print(processed_df.head())\n",
    "\n"
   ]
  },
  {
   "cell_type": "markdown",
   "metadata": {},
   "source": [
    "#### Export Processed Dataset"
   ]
  },
  {
   "cell_type": "code",
   "execution_count": 18,
   "metadata": {},
   "outputs": [],
   "source": [
    "processed_df.to_csv('Data/Building_Data_Preprocessed.csv', index=False)"
   ]
  }
 ],
 "metadata": {
  "kernelspec": {
   "display_name": ".venv",
   "language": "python",
   "name": "python3"
  },
  "language_info": {
   "codemirror_mode": {
    "name": "ipython",
    "version": 3
   },
   "file_extension": ".py",
   "mimetype": "text/x-python",
   "name": "python",
   "nbconvert_exporter": "python",
   "pygments_lexer": "ipython3",
   "version": "3.12.5"
  }
 },
 "nbformat": 4,
 "nbformat_minor": 2
}
