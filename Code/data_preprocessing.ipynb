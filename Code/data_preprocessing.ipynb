{
 "cells": [
  {
   "cell_type": "markdown",
   "metadata": {},
   "source": [
    "# Seattle Building Data Pre-processing\n",
    "## Team 5 - Connor, John, Libby, & Natalie\n",
    "\n",
    "This file contains the code used to preprocess and clean our selected dataset. The final step will be outputting a cleaned and processed dataset as a new .csv file."
   ]
  },
  {
   "cell_type": "markdown",
   "metadata": {},
   "source": [
    "#### Setup"
   ]
  },
  {
   "cell_type": "code",
   "execution_count": 1,
   "metadata": {},
   "outputs": [
    {
     "data": {
      "text/plain": [
       "'/Volumes/T7/DATA422_Fall2024_Team5'"
      ]
     },
     "execution_count": 1,
     "metadata": {},
     "output_type": "execute_result"
    }
   ],
   "source": [
    "#Makes paths work if you just clone or pull the repo\n",
    "import os\n",
    "os.chdir('../')\n",
    "os.getcwd()"
   ]
  },
  {
   "cell_type": "code",
   "execution_count": 2,
   "metadata": {},
   "outputs": [
    {
     "name": "stdout",
     "output_type": "stream",
     "text": [
      "Note: you may need to restart the kernel to use updated packages.\n"
     ]
    }
   ],
   "source": [
    "#Install Required Libraries (Only needs to run once)\n",
    "%pip install -q pandas numpy "
   ]
  },
  {
   "cell_type": "code",
   "execution_count": 3,
   "metadata": {},
   "outputs": [],
   "source": [
    "#import libraries\n",
    "import pandas as pd"
   ]
  },
  {
   "cell_type": "markdown",
   "metadata": {},
   "source": [
    "#### Import Data"
   ]
  },
  {
   "cell_type": "code",
   "execution_count": 4,
   "metadata": {},
   "outputs": [],
   "source": [
    "#Paths\n",
    "PATH_TO_DATASET = \"Data/Seattle Building Energy Benchmarking/2022_Building_Energy_Benchmarking_20240906.csv\""
   ]
  },
  {
   "cell_type": "code",
   "execution_count": 7,
   "metadata": {},
   "outputs": [
    {
     "name": "stdout",
     "output_type": "stream",
     "text": [
      "Index(['OSEBuildingID', 'DataYear', 'BuildingName', 'BuildingType',\n",
      "       'TaxParcelIdentificationNumber', 'Address', 'City', 'State', 'ZipCode',\n",
      "       'Latitude', 'Longitude', 'Neighborhood', 'CouncilDistrictCode',\n",
      "       'YearBuilt', 'NumberofFloors', 'NumberofBuildings', 'PropertyGFATotal',\n",
      "       'PropertyGFABuilding(s)', 'PropertyGFAParking', 'ENERGYSTARScore',\n",
      "       'SiteEUIWN(kBtu/sf)', 'SiteEUI(kBtu/sf)', 'SiteEnergyUse(kBtu)',\n",
      "       'SiteEnergyUseWN(kBtu)', 'SourceEUIWN(kBtu/sf)', 'SourceEUI(kBtu/sf)',\n",
      "       'EPAPropertyType', 'LargestPropertyUseType',\n",
      "       'LargestPropertyUseTypeGFA', 'SecondLargestPropertyUseType',\n",
      "       'SecondLargestPropertyUseTypeGFA', 'ThirdLargestPropertyUseType',\n",
      "       'ThirdLargestPropertyUseTypeGFA', 'Electricity(kWh)', 'SteamUse(kBtu)',\n",
      "       'NaturalGas(therms)', 'ComplianceStatus', 'ComplianceIssue',\n",
      "       'Electricity(kBtu)', 'NaturalGas(kBtu)', 'TotalGHGEmissions',\n",
      "       'GHGEmissionsIntensity'],\n",
      "      dtype='object')\n"
     ]
    }
   ],
   "source": [
    "#Import Dataset\n",
    "building_DF = pd.read_csv(PATH_TO_DATASET) #raw data\n",
    "\n",
    "print(building_DF.columns)"
   ]
  },
  {
   "cell_type": "markdown",
   "metadata": {},
   "source": [
    "#### Data Cleaning"
   ]
  },
  {
   "cell_type": "code",
   "execution_count": 14,
   "metadata": {},
   "outputs": [
    {
     "name": "stdout",
     "output_type": "stream",
     "text": [
      "547 Dropped Rows\n"
     ]
    }
   ],
   "source": [
    "#Non-compliant Buildings\n",
    "compliant_buildings = building_DF[building_DF['ComplianceStatus'] == 'Compliant']\n",
    "print(building_DF.shape[0] - compliant_buildings.shape[0], 'Dropped Rows')\n",
    "\n",
    "#uncomment to save change (im lazy will delete later)\n",
    "#building_DF = compliant_buildings"
   ]
  },
  {
   "cell_type": "code",
   "execution_count": 15,
   "metadata": {},
   "outputs": [],
   "source": [
    "#Drop Columns That We Decided Not To Use\n",
    "Dropped_Columns = ['TaxParcelIdentificationNumber', 'City', 'State', 'CouncilDistrictCode', 'PropertyGFABuilding(s)', \n",
    "                   'PropertyGFAParking', 'SiteEUIWN(kBtu/sf)', 'SiteEnergyUse(kBtu)', 'SiteEnergyUseWN(kBtu)', \n",
    "                   'SourceEUIWN(kBtu/sf)', 'LargestPropertyUseType', 'LargestPropertyUseTypeGFA', \n",
    "                   'SecondLargestPropertyUseType', 'SecondLargestPropertyUseTypeGFA', 'ThirdLargestPropertyUseType',\n",
    "                   'ThirdLargestPropertyUseTypeGFA', 'Electricity(kWh)', 'NaturalGas(therms)', 'TotalGHGEmissions']\n",
    "#Drop Listed Columns\n",
    "df_after_drop = building_DF.drop(columns=Dropped_Columns)"
   ]
  },
  {
   "cell_type": "code",
   "execution_count": 16,
   "metadata": {},
   "outputs": [
    {
     "name": "stdout",
     "output_type": "stream",
     "text": [
      "                       Null Count Data Type\n",
      "SteamUse(kBtu)               3517   float64\n",
      "NaturalGas(kBtu)             1669   float64\n",
      "ENERGYSTARScore              1174   float64\n",
      "SourceEUI(kBtu/sf)            458   float64\n",
      "SiteEUI(kBtu/sf)              458   float64\n",
      "EPAPropertyType               234    object\n",
      "GHGEmissionsIntensity         209   float64\n",
      "Electricity(kBtu)             208   float64\n",
      "Neighborhood                    1    object\n"
     ]
    }
   ],
   "source": [
    "# Column wise Null counts\n",
    "column_nulls = df_after_drop.isnull().sum()\n",
    "sorted_column_nulls = column_nulls[column_nulls > 0].sort_values(ascending=False)\n",
    "column_dtypes = df_after_drop.dtypes\n",
    "nulls_and_dtypes = pd.DataFrame({\n",
    "    'Null Count': sorted_column_nulls,\n",
    "    'Data Type': column_dtypes[sorted_column_nulls.index]\n",
    "})\n",
    "\n",
    "print(nulls_and_dtypes)"
   ]
  },
  {
   "cell_type": "code",
   "execution_count": null,
   "metadata": {},
   "outputs": [],
   "source": [
    "def handle_null_values(b_df):\n",
    "    '''This function takes the building dataframe and returns a new dataframe with the null values handled'''\n",
    "    b_df['SteamUse(kBtu)'] = b_df['SteamUse(kBtu)'].fillna(0.0) #Buildings that don't have steam have zero steam use\n",
    "    b_df['NaturalGas(kBtu)'] = b_df['NaturalGas(kBtu)'].fillna(0.0) #Buildings that don't have natural gas use zero natural gas\n",
    "    b_df['ENERGYSTARScore'] = b_df['ENERGYSTARScore'] #not sure what to do with this yet\n",
    "    b_df['SourceEUI'] = b_df['SourceEUI'].fillna(b_df['SourceEUI'].mean()) #Fill with mean\n",
    "    b_df['SiteEUI'] = b_df['SiteEUI'].fillna(b_df['SiteEUI'].mean()) #Fill with mean\n",
    "    b_df['EPAPropertyType'] = b_df['EPAPropertyType'].fillna('Other') #Fill with 'Other'\n",
    "    b_df = b_df.dropna(subset=['GHGEmissionsIntensity']) #drop Rows with Nulls\n",
    "    b_df['Electricity(kBtu)'] = b_df['Electricity(kBtu)'].fillna(0.0) #leaving as zero elecricity use for now but needs to be fixed\n",
    "    b_df = b_df.dropna(subset=['Neighborhood']) #drop the single row with a null, goodbye :(\n",
    "        \n",
    "    return b_df\n",
    "\n",
    "df_nulls_cleaned = handle_null_values(df_after_drop)\n",
    "\n",
    "df_nulls_cleaned.to_csv('Data/Building_Data_Cleaned.csv', index=False)"
   ]
  },
  {
   "cell_type": "markdown",
   "metadata": {},
   "source": [
    "#### Processing Steps"
   ]
  },
  {
   "cell_type": "code",
   "execution_count": null,
   "metadata": {},
   "outputs": [],
   "source": [
    "clean_data pd.read_csv('Data/Building_Data_Cleaned.csv')\n",
    "#encoding\n",
    "from sklearn.preprocessing import StandardScaler, OneHotEncoder\n",
    "\n",
    "cat_cols = []\n",
    "num_cols = []\n"
   ]
  },
  {
   "cell_type": "markdown",
   "metadata": {},
   "source": [
    "#### Export Processed Dataset"
   ]
  },
  {
   "cell_type": "code",
   "execution_count": null,
   "metadata": {},
   "outputs": [],
   "source": [
    "print(building_DF)\n",
    "building_DF.to_csv('Data/Building_Data_PP.csv', index=False)"
   ]
  }
 ],
 "metadata": {
  "kernelspec": {
   "display_name": ".venv",
   "language": "python",
   "name": "python3"
  },
  "language_info": {
   "codemirror_mode": {
    "name": "ipython",
    "version": 3
   },
   "file_extension": ".py",
   "mimetype": "text/x-python",
   "name": "python",
   "nbconvert_exporter": "python",
   "pygments_lexer": "ipython3",
   "version": "3.12.6"
  }
 },
 "nbformat": 4,
 "nbformat_minor": 2
}
