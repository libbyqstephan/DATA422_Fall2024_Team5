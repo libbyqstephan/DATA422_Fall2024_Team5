{
 "cells": [
  {
   "cell_type": "markdown",
   "metadata": {
    "vscode": {
     "languageId": "plaintext"
    }
   },
   "source": []
  },
  {
   "cell_type": "markdown",
   "metadata": {},
   "source": [
    "#### Setup"
   ]
  },
  {
   "cell_type": "code",
   "execution_count": 1,
   "metadata": {},
   "outputs": [
    {
     "name": "stdout",
     "output_type": "stream",
     "text": [
      "Note: you may need to restart the kernel to use updated packages.\n"
     ]
    }
   ],
   "source": [
    "%pip install -q scikit-learn pandas numpy matplotlib seaborn"
   ]
  },
  {
   "cell_type": "code",
   "execution_count": 2,
   "metadata": {},
   "outputs": [],
   "source": [
    "import os\n",
    "os.chdir('../')"
   ]
  },
  {
   "cell_type": "code",
   "execution_count": 3,
   "metadata": {},
   "outputs": [],
   "source": [
    "import pandas as pd\n",
    "from sklearn.model_selection import train_test_split, GridSearchCV\n",
    "from sklearn.naive_bayes import MultinomialNB, ComplementNB\n",
    "from sklearn.metrics import accuracy_score, classification_report, confusion_matrix\n",
    "import matplotlib.pyplot as plt\n",
    "import seaborn as sns\n"
   ]
  },
  {
   "cell_type": "markdown",
   "metadata": {},
   "source": [
    "#### Get data and Split into train test"
   ]
  },
  {
   "cell_type": "code",
   "execution_count": 4,
   "metadata": {},
   "outputs": [],
   "source": [
    "#import and combine cluster data with preprocessed data\n",
    "cluster_data = pd.read_csv(r'Data/Seattle_Building_Clusters.csv')\n",
    "preprocessed_data = pd.read_csv(r'Data/Building_Data_Preprocessed.csv')\n",
    "\n",
    "preprocessed_data = preprocessed_data.assign(GHGIntensityCluster = cluster_data['GHGIntensityCluster']) #move clusters to preprocessed data\n",
    "\n",
    "preprocessed_data = preprocessed_data.drop('BuildingName', axis = 1) #drop string columns\n",
    "preprocessed_data = preprocessed_data.drop('Address', axis = 1)\n",
    "preprocessed_data = preprocessed_data.drop('Latitude', axis = 1) #Drop columns with negative values\n",
    "preprocessed_data = preprocessed_data.drop('Longitude', axis = 1)#Drop columns with negative values\n",
    "\n",
    "\n",
    "preprocessed_data = preprocessed_data.dropna()\n",
    "\n",
    "#very ugly, i might add this to the preprocessing notebook so that the clusters are included in the data\n",
    "\n",
    "X = preprocessed_data.drop('GHGIntensityCluster', axis=1)\n",
    "y = preprocessed_data['GHGIntensityCluster']\n",
    "\n",
    "X_train, X_test, y_train, y_test = train_test_split(X, y, test_size=0.3, random_state=42)\n"
   ]
  },
  {
   "cell_type": "markdown",
   "metadata": {},
   "source": [
    "#### Multi-nomial Naive Bayes"
   ]
  },
  {
   "cell_type": "code",
   "execution_count": 8,
   "metadata": {},
   "outputs": [
    {
     "name": "stdout",
     "output_type": "stream",
     "text": [
      "Multinomial Naive Bayes Accuracy: 0.4933\n",
      "Multinomial Classification Report:\n",
      "              precision    recall  f1-score   support\n",
      "\n",
      "           0       0.59      0.75      0.66       399\n",
      "           1       0.27      0.40      0.32        81\n",
      "           2       0.29      0.02      0.03       121\n",
      "           3       0.30      0.22      0.26       143\n",
      "\n",
      "    accuracy                           0.49       744\n",
      "   macro avg       0.36      0.35      0.32       744\n",
      "weighted avg       0.45      0.49      0.44       744\n",
      "\n",
      "Multinomial Confusion Matrix:\n",
      "[[301  42   4  52]\n",
      " [ 46  32   1   2]\n",
      " [ 71  29   2  19]\n",
      " [ 94  17   0  32]]\n"
     ]
    }
   ],
   "source": [
    "mnnb = MultinomialNB()\n",
    "\n",
    "# Parameters for tuning\n",
    "param_grid = {\n",
    "    'alpha': [0.01, 0.1, 0.5, 1.0, 5.0, 10.0, 20, 50, 100,],\n",
    "    'force_alpha': [True, False],\n",
    "    'fit_prior': [True, False]\n",
    "}\n",
    "\n",
    "# Grid search the parameters to hopefully improve accuracy\n",
    "grid_search = GridSearchCV(mnnb, param_grid, cv=5)\n",
    "grid_search.fit(X_train, y_train)\n",
    "\n",
    "# Make predictions\n",
    "y_pred = grid_search.predict(X_test)\n",
    "\n",
    "# Evaluate the model\n",
    "accuracy = accuracy_score(y_test, y_pred) #accuracy is the % of correct predictions made\n",
    "print(f'Multinomial Naive Bayes Accuracy: {accuracy:.4f}')\n",
    "\n",
    "print('Multinomial Classification Report:')\n",
    "print(classification_report(y_test, y_pred))\n",
    "\n",
    "print('Multinomial Confusion Matrix:')\n",
    "print(confusion_matrix(y_test, y_pred))\n"
   ]
  },
  {
   "cell_type": "markdown",
   "metadata": {},
   "source": [
    "#### Complement Naive Bayes Classification"
   ]
  },
  {
   "cell_type": "code",
   "execution_count": 10,
   "metadata": {},
   "outputs": [
    {
     "name": "stdout",
     "output_type": "stream",
     "text": [
      "Complement Naive Bayes Accuracy: 0.4933\n",
      "Compliment Classification Report:\n",
      "              precision    recall  f1-score   support\n",
      "\n",
      "           0       0.58      0.79      0.67       399\n",
      "           1       0.00      0.00      0.00        81\n",
      "           2       0.24      0.23      0.24       121\n",
      "           3       0.29      0.16      0.21       143\n",
      "\n",
      "    accuracy                           0.49       744\n",
      "   macro avg       0.28      0.30      0.28       744\n",
      "weighted avg       0.40      0.49      0.44       744\n",
      "\n",
      "Compliment Confusion Matrix:\n",
      "[[316   0  43  40]\n",
      " [ 49   0  31   1]\n",
      " [ 77   0  28  16]\n",
      " [106   0  14  23]]\n"
     ]
    },
    {
     "name": "stderr",
     "output_type": "stream",
     "text": [
      "c:\\Users\\jfsal\\Documents\\DATA422_Fall2024_Team5-1\\.venv\\Lib\\site-packages\\sklearn\\metrics\\_classification.py:1531: UndefinedMetricWarning: Precision is ill-defined and being set to 0.0 in labels with no predicted samples. Use `zero_division` parameter to control this behavior.\n",
      "  _warn_prf(average, modifier, f\"{metric.capitalize()} is\", len(result))\n",
      "c:\\Users\\jfsal\\Documents\\DATA422_Fall2024_Team5-1\\.venv\\Lib\\site-packages\\sklearn\\metrics\\_classification.py:1531: UndefinedMetricWarning: Precision is ill-defined and being set to 0.0 in labels with no predicted samples. Use `zero_division` parameter to control this behavior.\n",
      "  _warn_prf(average, modifier, f\"{metric.capitalize()} is\", len(result))\n",
      "c:\\Users\\jfsal\\Documents\\DATA422_Fall2024_Team5-1\\.venv\\Lib\\site-packages\\sklearn\\metrics\\_classification.py:1531: UndefinedMetricWarning: Precision is ill-defined and being set to 0.0 in labels with no predicted samples. Use `zero_division` parameter to control this behavior.\n",
      "  _warn_prf(average, modifier, f\"{metric.capitalize()} is\", len(result))\n"
     ]
    },
    {
     "data": {
      "image/png": "[encoded data removed]",
      "text/plain": [
       "<Figure size 1000x700 with 2 Axes>"
      ]
     },
     "metadata": {},
     "output_type": "display_data"
    }
   ],
   "source": [
    "conb = ComplementNB ()\n",
    "\n",
    "# Parameters for tuning\n",
    "param_grid = {\n",
    "    'alpha': [0.01, 0.1, 0.5, 1.0, 5.0, 10.0, 20, 50, 100,],\n",
    "    'force_alpha': [True, False],\n",
    "    'fit_prior': [True, False],\n",
    "}\n",
    "\n",
    "# Grid search the parameters to hopefully improve accuracy\n",
    "grid_search = GridSearchCV(conb, param_grid, cv=5)\n",
    "grid_search.fit(X_train, y_train)\n",
    "\n",
    "# Predict\n",
    "y_pred = grid_search.predict(X_test)\n",
    "\n",
    "# Evaluate\n",
    "accuracy = accuracy_score(y_test, y_pred)\n",
    "print(f'Complement Naive Bayes Accuracy: {accuracy:.4f}')\n",
    "\n",
    "print('Compliment Classification Report:')\n",
    "print(classification_report(y_test, y_pred))\n",
    "\n",
    "print('Compliment Confusion Matrix:')\n",
    "print(confusion_matrix(y_test, y_pred))\n",
    "\n",
    "# Confusion Matrix Heatmap\n",
    "conf_matrix = confusion_matrix(y_test, y_pred)\n",
    "plt.figure(figsize=(10, 7))\n",
    "sns.heatmap(conf_matrix, annot=True, fmt='d', cmap='Blues')\n",
    "plt.title('Confusion Matrix')\n",
    "plt.xlabel('Predicted')\n",
    "plt.ylabel('Actual')\n",
    "plt.show()\n",
    "\n"
   ]
  },
  {
   "cell_type": "markdown",
   "metadata": {},
   "source": [
    "#### Write Up\n",
    "The accuracy of our models predictions is pretty bad despite the parameter tuning. With 49% suggesting that it is slightly better than randomly picking one of the four clusters to assign to. This may be because Naive Bayes wants the features to be independent which is likely not the case based on the covariance graph.\n",
    "\n",
    "Examining the Classification reports, the precision value tells us how accurate the model is at predicting the different classes. Both of the models seem to perform fairly well at predicting class 0 but struggle to accurately assign the other classes. This is supported by the confusion matrix which shows that both models are predicting large numbers 301, and 316 out of the 399 to belong to class 0. It also appears to be predicting many cases of class 1 to be class 2 instead. Finally the recall values for both models suggest that the models are missing many instances of classes 1, 2, and 3.\n",
    "\n",
    "Overall the first model, Multi-nomial naive bayes classification does out perform the second model, but only slightly based on the information in the recall matrix and classification report. Unfortunately this indicates that this model is likely not useful in terms of predicting emission intensity classes."
   ]
  }
 ],
 "metadata": {
  "kernelspec": {
   "display_name": "Python 3 (ipykernel)",
   "language": "python",
   "name": "python3"
  },
  "language_info": {
   "codemirror_mode": {
    "name": "ipython",
    "version": 3
   },
   "file_extension": ".py",
   "mimetype": "text/x-python",
   "name": "python",
   "nbconvert_exporter": "python",
   "pygments_lexer": "ipython3",
   "version": "3.11.8"
  }
 },
 "nbformat": 4,
 "nbformat_minor": 4
}
